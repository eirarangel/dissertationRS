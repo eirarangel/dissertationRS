{
 "cells": [
  {
   "cell_type": "code",
   "execution_count": 1,
   "metadata": {},
   "outputs": [],
   "source": [
    "# Helper libraries\n",
    "import pandas as pd\n",
    "import json\n",
    "import requests"
   ]
  },
  {
   "cell_type": "code",
   "execution_count": 3,
   "metadata": {},
   "outputs": [
    {
     "data": {
      "text/html": [
       "<div>\n",
       "<style scoped>\n",
       "    .dataframe tbody tr th:only-of-type {\n",
       "        vertical-align: middle;\n",
       "    }\n",
       "\n",
       "    .dataframe tbody tr th {\n",
       "        vertical-align: top;\n",
       "    }\n",
       "\n",
       "    .dataframe thead th {\n",
       "        text-align: right;\n",
       "    }\n",
       "</style>\n",
       "<table border=\"1\" class=\"dataframe\">\n",
       "  <thead>\n",
       "    <tr style=\"text-align: right;\">\n",
       "      <th></th>\n",
       "      <th>traname</th>\n",
       "      <th>artname</th>\n",
       "      <th>listeners_per_song</th>\n",
       "      <th>song</th>\n",
       "    </tr>\n",
       "  </thead>\n",
       "  <tbody>\n",
       "    <tr>\n",
       "      <th>0</th>\n",
       "      <td>! (Foreword)</td>\n",
       "      <td>Pain Of Salvation</td>\n",
       "      <td>11</td>\n",
       "      <td>! (Foreword) - Pain Of Salvation</td>\n",
       "    </tr>\n",
       "    <tr>\n",
       "      <th>1</th>\n",
       "      <td>#1</td>\n",
       "      <td>Animal Collective</td>\n",
       "      <td>56</td>\n",
       "      <td>#1 - Animal Collective</td>\n",
       "    </tr>\n",
       "    <tr>\n",
       "      <th>2</th>\n",
       "      <td>#1 Crush</td>\n",
       "      <td>Garbage</td>\n",
       "      <td>63</td>\n",
       "      <td>#1 Crush - Garbage</td>\n",
       "    </tr>\n",
       "    <tr>\n",
       "      <th>3</th>\n",
       "      <td>#1 Hit Jam</td>\n",
       "      <td>The Brian Jonestown Massacre</td>\n",
       "      <td>18</td>\n",
       "      <td>#1 Hit Jam - The Brian Jonestown Massacre</td>\n",
       "    </tr>\n",
       "    <tr>\n",
       "      <th>4</th>\n",
       "      <td>#1 Hit Song</td>\n",
       "      <td>Minutemen</td>\n",
       "      <td>18</td>\n",
       "      <td>#1 Hit Song - Minutemen</td>\n",
       "    </tr>\n",
       "  </tbody>\n",
       "</table>\n",
       "</div>"
      ],
      "text/plain": [
       "        traname                       artname  listeners_per_song  \\\n",
       "0  ! (Foreword)             Pain Of Salvation                  11   \n",
       "1            #1             Animal Collective                  56   \n",
       "2      #1 Crush                       Garbage                  63   \n",
       "3    #1 Hit Jam  The Brian Jonestown Massacre                  18   \n",
       "4   #1 Hit Song                     Minutemen                  18   \n",
       "\n",
       "                                        song  \n",
       "0           ! (Foreword) - Pain Of Salvation  \n",
       "1                     #1 - Animal Collective  \n",
       "2                         #1 Crush - Garbage  \n",
       "3  #1 Hit Jam - The Brian Jonestown Massacre  \n",
       "4                    #1 Hit Song - Minutemen  "
      ]
     },
     "execution_count": 3,
     "metadata": {},
     "output_type": "execute_result"
    }
   ],
   "source": [
    "songs = pd.read_csv('songs.csv')\n",
    "songs.head()"
   ]
  },
  {
   "cell_type": "code",
   "execution_count": 4,
   "metadata": {},
   "outputs": [],
   "source": [
    "api_key = '01f4a7955616ed463c001b7d4c856624'\n",
    "api_url_base = 'http://ws.audioscrobbler.com/2.0/'\n",
    "format_header = 'json'\n",
    "method = 'track.gettoptags'"
   ]
  },
  {
   "cell_type": "code",
   "execution_count": 5,
   "metadata": {},
   "outputs": [
    {
     "data": {
      "text/plain": [
       "'the+teenagers'"
      ]
     },
     "execution_count": 5,
     "metadata": {},
     "output_type": "execute_result"
    }
   ],
   "source": [
    "def format_title(title):\n",
    "    new_title = title.lower()\n",
    "    new_title = new_title.replace(' ','+')\n",
    "    return new_title\n",
    "format_title('The Teenagers')"
   ]
  },
  {
   "cell_type": "code",
   "execution_count": 9,
   "metadata": {},
   "outputs": [],
   "source": [
    "def get_song_tags(song, artist):\n",
    "    response = requests.get(api_url_base + \n",
    "                            '?method=' + method + \n",
    "                            '&artist=' + artist + \n",
    "                            '&track=' + song + \n",
    "                            '&api_key=' + api_key + '&format=json')\n",
    "\n",
    "    if response.status_code == 200:\n",
    "        tags = json.loads(response.content.decode('utf-8'))\n",
    "        tag_array = []\n",
    "        if 'toptags' in tags:\n",
    "            for i in tags['toptags']['tag'][:10]:\n",
    "                tag_array.append(i['name'].lower().replace('-',' '))\n",
    "            return tag_array\n",
    "        else:\n",
    "            return []\n",
    "    else:\n",
    "        return []"
   ]
  },
  {
   "cell_type": "code",
   "execution_count": 13,
   "metadata": {},
   "outputs": [
    {
     "data": {
      "text/plain": [
       "(72264, 4)"
      ]
     },
     "execution_count": 13,
     "metadata": {},
     "output_type": "execute_result"
    }
   ],
   "source": [
    "songs.shape"
   ]
  },
  {
   "cell_type": "code",
   "execution_count": 16,
   "metadata": {},
   "outputs": [
    {
     "data": {
      "text/plain": [
       "72264"
      ]
     },
     "execution_count": 16,
     "metadata": {},
     "output_type": "execute_result"
    }
   ],
   "source": [
    "len(song_dict)"
   ]
  },
  {
   "cell_type": "code",
   "execution_count": null,
   "metadata": {},
   "outputs": [],
   "source": [
    "# DO NOT RUN THIS! TAKES A LONG TIME!\n",
    "song_dict = {}\n",
    "big_array = []\n",
    "for index, row in songs.iterrows():\n",
    "    song_name = format_title(row['traname'])\n",
    "    artist_name = format_title(row['artname'])\n",
    "    tags = get_song_tags(song_name, artist_name)\n",
    "    song_dict[row['song']] = tags\n",
    "    big_array.append(tags)\n",
    "    print(index)"
   ]
  },
  {
   "cell_type": "code",
   "execution_count": 17,
   "metadata": {},
   "outputs": [],
   "source": [
    "song_dict = pd.DataFrame(list(song_dict.items()), columns=['song', 'tags'])\n",
    "song_dict.head()"
   ]
  },
  {
   "cell_type": "code",
   "execution_count": 20,
   "metadata": {},
   "outputs": [],
   "source": [
    "song_dict.to_csv('songs_tags.csv', index=None)"
   ]
  },
  {
   "cell_type": "code",
   "execution_count": null,
   "metadata": {},
   "outputs": [],
   "source": []
  }
 ],
 "metadata": {
  "kernelspec": {
   "display_name": "Python 3",
   "language": "python",
   "name": "python3"
  },
  "language_info": {
   "codemirror_mode": {
    "name": "ipython",
    "version": 3
   },
   "file_extension": ".py",
   "mimetype": "text/x-python",
   "name": "python",
   "nbconvert_exporter": "python",
   "pygments_lexer": "ipython3",
   "version": "3.6.5"
  }
 },
 "nbformat": 4,
 "nbformat_minor": 2
}
