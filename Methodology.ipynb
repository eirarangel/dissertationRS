{
 "cells": [
  {
   "cell_type": "code",
   "execution_count": 2,
   "metadata": {},
   "outputs": [],
   "source": [
    "# Helper libraries\n",
    "import numpy as np\n",
    "import random\n",
    "import pandas as pd\n",
    "import matplotlib.pyplot as plt\n",
    "%matplotlib inline\n",
    "import seaborn as sns\n",
    "\n",
    "import json\n",
    "import requests\n",
    "\n",
    "from sklearn.preprocessing import OrdinalEncoder\n",
    "from sklearn.preprocessing import OneHotEncoder\n",
    "from sklearn.model_selection import train_test_split\n",
    "from sklearn.preprocessing import MultiLabelBinarizer\n",
    "\n",
    "from scipy import sparse\n",
    "from scipy.sparse import coo_matrix\n",
    "\n",
    "import tensorrec\n",
    "\n",
    "import nltk\n",
    "from ast import literal_eval"
   ]
  },
  {
   "cell_type": "markdown",
   "metadata": {},
   "source": [
    "## User data"
   ]
  },
  {
   "cell_type": "code",
   "execution_count": 4,
   "metadata": {},
   "outputs": [
    {
     "data": {
      "text/html": [
       "<div>\n",
       "<style scoped>\n",
       "    .dataframe tbody tr th:only-of-type {\n",
       "        vertical-align: middle;\n",
       "    }\n",
       "\n",
       "    .dataframe tbody tr th {\n",
       "        vertical-align: top;\n",
       "    }\n",
       "\n",
       "    .dataframe thead th {\n",
       "        text-align: right;\n",
       "    }\n",
       "</style>\n",
       "<table border=\"1\" class=\"dataframe\">\n",
       "  <thead>\n",
       "    <tr style=\"text-align: right;\">\n",
       "      <th></th>\n",
       "      <th>#id</th>\n",
       "      <th>gender</th>\n",
       "      <th>age</th>\n",
       "      <th>country</th>\n",
       "      <th>registered</th>\n",
       "    </tr>\n",
       "  </thead>\n",
       "  <tbody>\n",
       "    <tr>\n",
       "      <th>0</th>\n",
       "      <td>user_000001</td>\n",
       "      <td>m</td>\n",
       "      <td>NaN</td>\n",
       "      <td>Japan</td>\n",
       "      <td>Aug 13, 2006</td>\n",
       "    </tr>\n",
       "    <tr>\n",
       "      <th>1</th>\n",
       "      <td>user_000002</td>\n",
       "      <td>f</td>\n",
       "      <td>NaN</td>\n",
       "      <td>Peru</td>\n",
       "      <td>Feb 24, 2006</td>\n",
       "    </tr>\n",
       "    <tr>\n",
       "      <th>2</th>\n",
       "      <td>user_000003</td>\n",
       "      <td>m</td>\n",
       "      <td>22.0</td>\n",
       "      <td>United States</td>\n",
       "      <td>Oct 30, 2005</td>\n",
       "    </tr>\n",
       "    <tr>\n",
       "      <th>3</th>\n",
       "      <td>user_000004</td>\n",
       "      <td>f</td>\n",
       "      <td>NaN</td>\n",
       "      <td>NaN</td>\n",
       "      <td>Apr 26, 2006</td>\n",
       "    </tr>\n",
       "    <tr>\n",
       "      <th>4</th>\n",
       "      <td>user_000005</td>\n",
       "      <td>m</td>\n",
       "      <td>NaN</td>\n",
       "      <td>Bulgaria</td>\n",
       "      <td>Jun 29, 2006</td>\n",
       "    </tr>\n",
       "  </tbody>\n",
       "</table>\n",
       "</div>"
      ],
      "text/plain": [
       "           #id gender   age        country    registered\n",
       "0  user_000001      m   NaN          Japan  Aug 13, 2006\n",
       "1  user_000002      f   NaN           Peru  Feb 24, 2006\n",
       "2  user_000003      m  22.0  United States  Oct 30, 2005\n",
       "3  user_000004      f   NaN            NaN  Apr 26, 2006\n",
       "4  user_000005      m   NaN       Bulgaria  Jun 29, 2006"
      ]
     },
     "execution_count": 4,
     "metadata": {},
     "output_type": "execute_result"
    }
   ],
   "source": [
    "# import user information\n",
    "user_info = pd.read_csv('lastfm-dataset-1K/userid-profile.tsv', delimiter='\\t', encoding='utf-8')\n",
    "user_info.head()"
   ]
  },
  {
   "cell_type": "code",
   "execution_count": 7,
   "metadata": {},
   "outputs": [
    {
     "data": {
      "text/plain": [
       "#id             0\n",
       "gender        108\n",
       "age           706\n",
       "country        85\n",
       "registered      8\n",
       "dtype: int64"
      ]
     },
     "execution_count": 7,
     "metadata": {},
     "output_type": "execute_result"
    }
   ],
   "source": [
    "# view missing information\n",
    "user_info.isna().sum()"
   ]
  },
  {
   "cell_type": "code",
   "execution_count": 8,
   "metadata": {},
   "outputs": [],
   "source": [
    "# map user with an ID in a dictionary for easy access\n",
    "user_index = {}\n",
    "user_index = {k: v for v, k in enumerate(user_info['#id'].values)}\n",
    "index_user = {}\n",
    "index_user = {idx: user for user, idx in user_index.items()}"
   ]
  },
  {
   "cell_type": "markdown",
   "metadata": {},
   "source": [
    "### Cleaning user data"
   ]
  },
  {
   "cell_type": "code",
   "execution_count": 9,
   "metadata": {},
   "outputs": [],
   "source": [
    "# treating gender missing values as a third gender\n",
    "user_info['gender'].fillna('Non', inplace=True)"
   ]
  },
  {
   "cell_type": "code",
   "execution_count": 10,
   "metadata": {},
   "outputs": [],
   "source": [
    "# treating age missing values as zero\n",
    "user_info['age'].fillna(0, inplace=True)"
   ]
  },
  {
   "cell_type": "code",
   "execution_count": 11,
   "metadata": {},
   "outputs": [],
   "source": [
    "# treating country missing values as another country\n",
    "user_info['country'].fillna('Non', inplace=True)"
   ]
  },
  {
   "cell_type": "markdown",
   "metadata": {},
   "source": [
    "### Creating user features"
   ]
  },
  {
   "cell_type": "markdown",
   "metadata": {},
   "source": [
    "#### 1. Age"
   ]
  },
  {
   "cell_type": "code",
   "execution_count": 12,
   "metadata": {},
   "outputs": [],
   "source": [
    "# converting float values of age to integer\n",
    "user_info['age'] = pd.to_numeric(user_info['age'], downcast='signed')"
   ]
  },
  {
   "cell_type": "code",
   "execution_count": 13,
   "metadata": {},
   "outputs": [],
   "source": [
    "# creating 4 categories of age range\n",
    "d = {range(21): 0, range(21, 31): 1, range(31, 41): 3, range(41,user_info['age'].max()+1): 4 }"
   ]
  },
  {
   "cell_type": "code",
   "execution_count": 14,
   "metadata": {},
   "outputs": [
    {
     "data": {
      "text/html": [
       "<div>\n",
       "<style scoped>\n",
       "    .dataframe tbody tr th:only-of-type {\n",
       "        vertical-align: middle;\n",
       "    }\n",
       "\n",
       "    .dataframe tbody tr th {\n",
       "        vertical-align: top;\n",
       "    }\n",
       "\n",
       "    .dataframe thead th {\n",
       "        text-align: right;\n",
       "    }\n",
       "</style>\n",
       "<table border=\"1\" class=\"dataframe\">\n",
       "  <thead>\n",
       "    <tr style=\"text-align: right;\">\n",
       "      <th></th>\n",
       "      <th>#id</th>\n",
       "      <th>gender</th>\n",
       "      <th>age</th>\n",
       "      <th>country</th>\n",
       "      <th>registered</th>\n",
       "      <th>age_range</th>\n",
       "    </tr>\n",
       "  </thead>\n",
       "  <tbody>\n",
       "    <tr>\n",
       "      <th>0</th>\n",
       "      <td>user_000001</td>\n",
       "      <td>m</td>\n",
       "      <td>0</td>\n",
       "      <td>Japan</td>\n",
       "      <td>Aug 13, 2006</td>\n",
       "      <td>0</td>\n",
       "    </tr>\n",
       "    <tr>\n",
       "      <th>1</th>\n",
       "      <td>user_000002</td>\n",
       "      <td>f</td>\n",
       "      <td>0</td>\n",
       "      <td>Peru</td>\n",
       "      <td>Feb 24, 2006</td>\n",
       "      <td>0</td>\n",
       "    </tr>\n",
       "    <tr>\n",
       "      <th>2</th>\n",
       "      <td>user_000003</td>\n",
       "      <td>m</td>\n",
       "      <td>22</td>\n",
       "      <td>United States</td>\n",
       "      <td>Oct 30, 2005</td>\n",
       "      <td>1</td>\n",
       "    </tr>\n",
       "    <tr>\n",
       "      <th>3</th>\n",
       "      <td>user_000004</td>\n",
       "      <td>f</td>\n",
       "      <td>0</td>\n",
       "      <td>Non</td>\n",
       "      <td>Apr 26, 2006</td>\n",
       "      <td>0</td>\n",
       "    </tr>\n",
       "    <tr>\n",
       "      <th>4</th>\n",
       "      <td>user_000005</td>\n",
       "      <td>m</td>\n",
       "      <td>0</td>\n",
       "      <td>Bulgaria</td>\n",
       "      <td>Jun 29, 2006</td>\n",
       "      <td>0</td>\n",
       "    </tr>\n",
       "  </tbody>\n",
       "</table>\n",
       "</div>"
      ],
      "text/plain": [
       "           #id gender  age        country    registered  age_range\n",
       "0  user_000001      m    0          Japan  Aug 13, 2006          0\n",
       "1  user_000002      f    0           Peru  Feb 24, 2006          0\n",
       "2  user_000003      m   22  United States  Oct 30, 2005          1\n",
       "3  user_000004      f    0            Non  Apr 26, 2006          0\n",
       "4  user_000005      m    0       Bulgaria  Jun 29, 2006          0"
      ]
     },
     "execution_count": 14,
     "metadata": {},
     "output_type": "execute_result"
    }
   ],
   "source": [
    "# apply range categories to users\n",
    "user_info['age_range'] = user_info['age'].apply(lambda x: next((v for k, v in d.items() if x in k), 0))\n",
    "user_info.head()"
   ]
  },
  {
   "cell_type": "markdown",
   "metadata": {},
   "source": [
    "#### 2. Country"
   ]
  },
  {
   "cell_type": "code",
   "execution_count": 15,
   "metadata": {},
   "outputs": [
    {
     "data": {
      "text/plain": [
       "array(['Africa', 'Asia', 'Europe', 'North America', 'Oceania',\n",
       "       'South America'], dtype=object)"
      ]
     },
     "execution_count": 15,
     "metadata": {},
     "output_type": "execute_result"
    }
   ],
   "source": [
    "# read file containing relationship between countries and continents\n",
    "locations = pd.read_csv('countriescontinents.csv')\n",
    "locations['Continent'].unique()"
   ]
  },
  {
   "cell_type": "code",
   "execution_count": 16,
   "metadata": {},
   "outputs": [
    {
     "data": {
      "text/plain": [
       "Country\n",
       "Algeria     Africa\n",
       "Angola      Africa\n",
       "Benin       Africa\n",
       "Botswana    Africa\n",
       "Burkina     Africa\n",
       "Name: Continent, dtype: object"
      ]
     },
     "execution_count": 16,
     "metadata": {},
     "output_type": "execute_result"
    }
   ],
   "source": [
    "# setting country as index for easier replacement\n",
    "locations = locations.set_index(\"Country\")[\"Continent\"]\n",
    "locations.head()"
   ]
  },
  {
   "cell_type": "code",
   "execution_count": 17,
   "metadata": {},
   "outputs": [
    {
     "data": {
      "text/html": [
       "<div>\n",
       "<style scoped>\n",
       "    .dataframe tbody tr th:only-of-type {\n",
       "        vertical-align: middle;\n",
       "    }\n",
       "\n",
       "    .dataframe tbody tr th {\n",
       "        vertical-align: top;\n",
       "    }\n",
       "\n",
       "    .dataframe thead th {\n",
       "        text-align: right;\n",
       "    }\n",
       "</style>\n",
       "<table border=\"1\" class=\"dataframe\">\n",
       "  <thead>\n",
       "    <tr style=\"text-align: right;\">\n",
       "      <th></th>\n",
       "      <th>#id</th>\n",
       "      <th>gender</th>\n",
       "      <th>age</th>\n",
       "      <th>country</th>\n",
       "      <th>registered</th>\n",
       "      <th>age_range</th>\n",
       "      <th>continent</th>\n",
       "    </tr>\n",
       "  </thead>\n",
       "  <tbody>\n",
       "    <tr>\n",
       "      <th>0</th>\n",
       "      <td>user_000001</td>\n",
       "      <td>m</td>\n",
       "      <td>0</td>\n",
       "      <td>Japan</td>\n",
       "      <td>Aug 13, 2006</td>\n",
       "      <td>0</td>\n",
       "      <td>Asia</td>\n",
       "    </tr>\n",
       "    <tr>\n",
       "      <th>1</th>\n",
       "      <td>user_000002</td>\n",
       "      <td>f</td>\n",
       "      <td>0</td>\n",
       "      <td>Peru</td>\n",
       "      <td>Feb 24, 2006</td>\n",
       "      <td>0</td>\n",
       "      <td>South America</td>\n",
       "    </tr>\n",
       "    <tr>\n",
       "      <th>2</th>\n",
       "      <td>user_000003</td>\n",
       "      <td>m</td>\n",
       "      <td>22</td>\n",
       "      <td>United States</td>\n",
       "      <td>Oct 30, 2005</td>\n",
       "      <td>1</td>\n",
       "      <td>United States</td>\n",
       "    </tr>\n",
       "    <tr>\n",
       "      <th>3</th>\n",
       "      <td>user_000004</td>\n",
       "      <td>f</td>\n",
       "      <td>0</td>\n",
       "      <td>Non</td>\n",
       "      <td>Apr 26, 2006</td>\n",
       "      <td>0</td>\n",
       "      <td>Non</td>\n",
       "    </tr>\n",
       "    <tr>\n",
       "      <th>4</th>\n",
       "      <td>user_000005</td>\n",
       "      <td>m</td>\n",
       "      <td>0</td>\n",
       "      <td>Bulgaria</td>\n",
       "      <td>Jun 29, 2006</td>\n",
       "      <td>0</td>\n",
       "      <td>Europe</td>\n",
       "    </tr>\n",
       "  </tbody>\n",
       "</table>\n",
       "</div>"
      ],
      "text/plain": [
       "           #id gender  age        country    registered  age_range  \\\n",
       "0  user_000001      m    0          Japan  Aug 13, 2006          0   \n",
       "1  user_000002      f    0           Peru  Feb 24, 2006          0   \n",
       "2  user_000003      m   22  United States  Oct 30, 2005          1   \n",
       "3  user_000004      f    0            Non  Apr 26, 2006          0   \n",
       "4  user_000005      m    0       Bulgaria  Jun 29, 2006          0   \n",
       "\n",
       "       continent  \n",
       "0           Asia  \n",
       "1  South America  \n",
       "2  United States  \n",
       "3            Non  \n",
       "4         Europe  "
      ]
     },
     "execution_count": 17,
     "metadata": {},
     "output_type": "execute_result"
    }
   ],
   "source": [
    "# save continent value equivalent in another column\n",
    "user_info['continent'] = user_info['country']\n",
    "user_info['continent'].replace(locations, inplace=True)\n",
    "user_info.head()"
   ]
  },
  {
   "cell_type": "code",
   "execution_count": 18,
   "metadata": {},
   "outputs": [
    {
     "data": {
      "text/plain": [
       "array(['Asia', 'South America', 'United States', 'Non', 'Europe',\n",
       "       \"Cote D'Ivoire\", 'Africa', 'North America', 'Oceania',\n",
       "       'United States Minor Outlying Islands', 'Czech Republic',\n",
       "       'Antarctica', \"Korea, Democratic People's Republic of\",\n",
       "       'Congo, the Democratic Republic of the',\n",
       "       'British Indian Ocean Territory', 'Netherlands Antilles',\n",
       "       'Northern Mariana Islands'], dtype=object)"
      ]
     },
     "execution_count": 18,
     "metadata": {},
     "output_type": "execute_result"
    }
   ],
   "source": [
    "user_info['continent'].unique()"
   ]
  },
  {
   "cell_type": "markdown",
   "metadata": {},
   "source": [
    "### Creating user embeddings"
   ]
  },
  {
   "cell_type": "code",
   "execution_count": 19,
   "metadata": {},
   "outputs": [
    {
     "data": {
      "text/plain": [
       "array([['m', 0, 'Asia'],\n",
       "       ['f', 0, 'South America'],\n",
       "       ['m', 1, 'United States'],\n",
       "       ...,\n",
       "       ['m', 0, 'Europe'],\n",
       "       ['f', 0, 'Europe'],\n",
       "       ['m', 0, 'United States']], dtype=object)"
      ]
     },
     "execution_count": 19,
     "metadata": {},
     "output_type": "execute_result"
    }
   ],
   "source": [
    "user_features = user_info[[\"gender\",\"age_range\",\"continent\"]].values\n",
    "user_features"
   ]
  },
  {
   "cell_type": "markdown",
   "metadata": {},
   "source": [
    "#### 1. Label Encoder"
   ]
  },
  {
   "cell_type": "code",
   "execution_count": 20,
   "metadata": {},
   "outputs": [
    {
     "data": {
      "text/plain": [
       "OrdinalEncoder(categories='auto', dtype=<class 'numpy.float64'>)"
      ]
     },
     "execution_count": 20,
     "metadata": {},
     "output_type": "execute_result"
    }
   ],
   "source": [
    "enc = OrdinalEncoder()\n",
    "enc.fit(user_features)"
   ]
  },
  {
   "cell_type": "code",
   "execution_count": 21,
   "metadata": {},
   "outputs": [
    {
     "data": {
      "text/plain": [
       "(992, 3)"
      ]
     },
     "execution_count": 21,
     "metadata": {},
     "output_type": "execute_result"
    }
   ],
   "source": [
    "user_features_array = enc.fit_transform(user_features)\n",
    "n_features = user_features_array.shape[1]\n",
    "user_features_array.shape"
   ]
  },
  {
   "cell_type": "code",
   "execution_count": 22,
   "metadata": {},
   "outputs": [
    {
     "data": {
      "text/plain": [
       "[array(['Non', 'f', 'm'], dtype=object),\n",
       " array([0, 1, 3, 4], dtype=object),\n",
       " array(['Africa', 'Antarctica', 'Asia', 'British Indian Ocean Territory',\n",
       "        'Congo, the Democratic Republic of the', \"Cote D'Ivoire\",\n",
       "        'Czech Republic', 'Europe',\n",
       "        \"Korea, Democratic People's Republic of\", 'Netherlands Antilles',\n",
       "        'Non', 'North America', 'Northern Mariana Islands', 'Oceania',\n",
       "        'South America', 'United States',\n",
       "        'United States Minor Outlying Islands'], dtype=object)]"
      ]
     },
     "execution_count": 22,
     "metadata": {},
     "output_type": "execute_result"
    }
   ],
   "source": [
    "enc.categories_"
   ]
  },
  {
   "cell_type": "code",
   "execution_count": 23,
   "metadata": {},
   "outputs": [
    {
     "data": {
      "text/plain": [
       "array([[ 2.,  0.,  2.],\n",
       "       [ 1.,  0., 14.],\n",
       "       [ 2.,  1., 15.],\n",
       "       ...,\n",
       "       [ 2.,  0.,  7.],\n",
       "       [ 1.,  0.,  7.],\n",
       "       [ 2.,  0., 15.]])"
      ]
     },
     "execution_count": 23,
     "metadata": {},
     "output_type": "execute_result"
    }
   ],
   "source": [
    "user_data_features = sparse.coo_matrix(user_features_array)\n",
    "user_data_features.toarray()"
   ]
  },
  {
   "cell_type": "markdown",
   "metadata": {},
   "source": [
    "#### 2. One Hot Encoder"
   ]
  },
  {
   "cell_type": "code",
   "execution_count": 24,
   "metadata": {},
   "outputs": [
    {
     "data": {
      "text/plain": [
       "OneHotEncoder(categorical_features=None, categories=None, drop=None,\n",
       "              dtype=<class 'numpy.float64'>, handle_unknown='error',\n",
       "              n_values=None, sparse=True)"
      ]
     },
     "execution_count": 24,
     "metadata": {},
     "output_type": "execute_result"
    }
   ],
   "source": [
    "enc = OneHotEncoder()\n",
    "enc.fit(user_features)"
   ]
  },
  {
   "cell_type": "code",
   "execution_count": 25,
   "metadata": {},
   "outputs": [
    {
     "data": {
      "text/plain": [
       "(992, 24)"
      ]
     },
     "execution_count": 25,
     "metadata": {},
     "output_type": "execute_result"
    }
   ],
   "source": [
    "user_features_onehot = enc.fit_transform(user_features)\n",
    "n_features_onehot = user_features_onehot.shape[1]\n",
    "user_features_onehot.shape"
   ]
  },
  {
   "cell_type": "code",
   "execution_count": 26,
   "metadata": {},
   "outputs": [
    {
     "data": {
      "text/plain": [
       "array([[0., 0., 1., ..., 0., 0., 0.],\n",
       "       [0., 1., 0., ..., 1., 0., 0.],\n",
       "       [0., 0., 1., ..., 0., 1., 0.],\n",
       "       ...,\n",
       "       [0., 0., 1., ..., 0., 0., 0.],\n",
       "       [0., 1., 0., ..., 0., 0., 0.],\n",
       "       [0., 0., 1., ..., 0., 1., 0.]])"
      ]
     },
     "execution_count": 26,
     "metadata": {},
     "output_type": "execute_result"
    }
   ],
   "source": [
    "user_data_features_onehot = sparse.coo_matrix(user_features_onehot)\n",
    "user_data_features_onehot.toarray()"
   ]
  },
  {
   "cell_type": "markdown",
   "metadata": {},
   "source": [
    "## Song data"
   ]
  },
  {
   "cell_type": "code",
   "execution_count": 27,
   "metadata": {},
   "outputs": [
    {
     "data": {
      "text/html": [
       "<div>\n",
       "<style scoped>\n",
       "    .dataframe tbody tr th:only-of-type {\n",
       "        vertical-align: middle;\n",
       "    }\n",
       "\n",
       "    .dataframe tbody tr th {\n",
       "        vertical-align: top;\n",
       "    }\n",
       "\n",
       "    .dataframe thead th {\n",
       "        text-align: right;\n",
       "    }\n",
       "</style>\n",
       "<table border=\"1\" class=\"dataframe\">\n",
       "  <thead>\n",
       "    <tr style=\"text-align: right;\">\n",
       "      <th></th>\n",
       "      <th>userid</th>\n",
       "      <th>timestamp</th>\n",
       "      <th>artid</th>\n",
       "      <th>artname</th>\n",
       "      <th>traid</th>\n",
       "      <th>traname</th>\n",
       "    </tr>\n",
       "  </thead>\n",
       "  <tbody>\n",
       "    <tr>\n",
       "      <th>0</th>\n",
       "      <td>user_000001</td>\n",
       "      <td>2009-05-04T23:08:57Z</td>\n",
       "      <td>f1b1cf71-bd35-4e99-8624-24a6e15f133a</td>\n",
       "      <td>Deep Dish</td>\n",
       "      <td>NaN</td>\n",
       "      <td>Fuck Me Im Famous (Pacha Ibiza)-09-28-2007</td>\n",
       "    </tr>\n",
       "    <tr>\n",
       "      <th>1</th>\n",
       "      <td>user_000001</td>\n",
       "      <td>2009-05-04T13:54:10Z</td>\n",
       "      <td>a7f7df4a-77d8-4f12-8acd-5c60c93f4de8</td>\n",
       "      <td>坂本龍一</td>\n",
       "      <td>NaN</td>\n",
       "      <td>Composition 0919 (Live_2009_4_15)</td>\n",
       "    </tr>\n",
       "    <tr>\n",
       "      <th>2</th>\n",
       "      <td>user_000001</td>\n",
       "      <td>2009-05-04T13:52:04Z</td>\n",
       "      <td>a7f7df4a-77d8-4f12-8acd-5c60c93f4de8</td>\n",
       "      <td>坂本龍一</td>\n",
       "      <td>NaN</td>\n",
       "      <td>Mc2 (Live_2009_4_15)</td>\n",
       "    </tr>\n",
       "    <tr>\n",
       "      <th>3</th>\n",
       "      <td>user_000001</td>\n",
       "      <td>2009-05-04T13:42:52Z</td>\n",
       "      <td>a7f7df4a-77d8-4f12-8acd-5c60c93f4de8</td>\n",
       "      <td>坂本龍一</td>\n",
       "      <td>NaN</td>\n",
       "      <td>Hibari (Live_2009_4_15)</td>\n",
       "    </tr>\n",
       "    <tr>\n",
       "      <th>4</th>\n",
       "      <td>user_000001</td>\n",
       "      <td>2009-05-04T13:42:11Z</td>\n",
       "      <td>a7f7df4a-77d8-4f12-8acd-5c60c93f4de8</td>\n",
       "      <td>坂本龍一</td>\n",
       "      <td>NaN</td>\n",
       "      <td>Mc1 (Live_2009_4_15)</td>\n",
       "    </tr>\n",
       "  </tbody>\n",
       "</table>\n",
       "</div>"
      ],
      "text/plain": [
       "        userid             timestamp                                 artid  \\\n",
       "0  user_000001  2009-05-04T23:08:57Z  f1b1cf71-bd35-4e99-8624-24a6e15f133a   \n",
       "1  user_000001  2009-05-04T13:54:10Z  a7f7df4a-77d8-4f12-8acd-5c60c93f4de8   \n",
       "2  user_000001  2009-05-04T13:52:04Z  a7f7df4a-77d8-4f12-8acd-5c60c93f4de8   \n",
       "3  user_000001  2009-05-04T13:42:52Z  a7f7df4a-77d8-4f12-8acd-5c60c93f4de8   \n",
       "4  user_000001  2009-05-04T13:42:11Z  a7f7df4a-77d8-4f12-8acd-5c60c93f4de8   \n",
       "\n",
       "     artname traid                                     traname  \n",
       "0  Deep Dish   NaN  Fuck Me Im Famous (Pacha Ibiza)-09-28-2007  \n",
       "1       坂本龍一   NaN           Composition 0919 (Live_2009_4_15)  \n",
       "2       坂本龍一   NaN                        Mc2 (Live_2009_4_15)  \n",
       "3       坂本龍一   NaN                     Hibari (Live_2009_4_15)  \n",
       "4       坂本龍一   NaN                        Mc1 (Live_2009_4_15)  "
      ]
     },
     "execution_count": 27,
     "metadata": {},
     "output_type": "execute_result"
    }
   ],
   "source": [
    "# importing user history with songs\n",
    "user_interactions = pd.read_csv('lastfm-dataset-1K/userid-timestamp-artid-artname-traid-traname.tsv',\n",
    "                         delimiter='\\t',\n",
    "                         encoding='utf-8',\n",
    "                         error_bad_lines=False,\n",
    "                        names=['userid','timestamp','artid','artname','traid','traname'])\n",
    "user_interactions.head()"
   ]
  },
  {
   "cell_type": "code",
   "execution_count": 28,
   "metadata": {},
   "outputs": [],
   "source": [
    "# number of times a user has listen to each song\n",
    "listencount = user_interactions.groupby(['userid', 'traname','artname']).count()[['timestamp']]\n",
    "listencount.rename(columns={\"timestamp\": \"listen_count_by_person\"}, inplace=True)\n",
    "listencount.reset_index(inplace=True) "
   ]
  },
  {
   "cell_type": "code",
   "execution_count": 29,
   "metadata": {},
   "outputs": [
    {
     "data": {
      "text/html": [
       "<div>\n",
       "<style scoped>\n",
       "    .dataframe tbody tr th:only-of-type {\n",
       "        vertical-align: middle;\n",
       "    }\n",
       "\n",
       "    .dataframe tbody tr th {\n",
       "        vertical-align: top;\n",
       "    }\n",
       "\n",
       "    .dataframe thead th {\n",
       "        text-align: right;\n",
       "    }\n",
       "</style>\n",
       "<table border=\"1\" class=\"dataframe\">\n",
       "  <thead>\n",
       "    <tr style=\"text-align: right;\">\n",
       "      <th></th>\n",
       "      <th>userid</th>\n",
       "      <th>traname</th>\n",
       "      <th>artname</th>\n",
       "      <th>listen_count_by_person</th>\n",
       "      <th>song</th>\n",
       "    </tr>\n",
       "  </thead>\n",
       "  <tbody>\n",
       "    <tr>\n",
       "      <th>0</th>\n",
       "      <td>user_000001</td>\n",
       "      <td>'84 Pontiac Dream</td>\n",
       "      <td>Boards Of Canada</td>\n",
       "      <td>14</td>\n",
       "      <td>'84 Pontiac Dream - Boards Of Canada</td>\n",
       "    </tr>\n",
       "    <tr>\n",
       "      <th>1</th>\n",
       "      <td>user_000001</td>\n",
       "      <td>(All I Wanted Was To Make You) Feel Good</td>\n",
       "      <td>Bugge Wesseltoft</td>\n",
       "      <td>3</td>\n",
       "      <td>(All I Wanted Was To Make You) Feel Good - Bug...</td>\n",
       "    </tr>\n",
       "    <tr>\n",
       "      <th>2</th>\n",
       "      <td>user_000001</td>\n",
       "      <td>(D)Ecaying Beauty</td>\n",
       "      <td>Richie Hawtin</td>\n",
       "      <td>1</td>\n",
       "      <td>(D)Ecaying Beauty - Richie Hawtin</td>\n",
       "    </tr>\n",
       "    <tr>\n",
       "      <th>3</th>\n",
       "      <td>user_000001</td>\n",
       "      <td>(Far From) Home</td>\n",
       "      <td>Tiga</td>\n",
       "      <td>1</td>\n",
       "      <td>(Far From) Home - Tiga</td>\n",
       "    </tr>\n",
       "    <tr>\n",
       "      <th>4</th>\n",
       "      <td>user_000001</td>\n",
       "      <td>(Get Off Your) High Horse Lady</td>\n",
       "      <td>Oasis</td>\n",
       "      <td>1</td>\n",
       "      <td>(Get Off Your) High Horse Lady - Oasis</td>\n",
       "    </tr>\n",
       "  </tbody>\n",
       "</table>\n",
       "</div>"
      ],
      "text/plain": [
       "        userid                                   traname           artname  \\\n",
       "0  user_000001                         '84 Pontiac Dream  Boards Of Canada   \n",
       "1  user_000001  (All I Wanted Was To Make You) Feel Good  Bugge Wesseltoft   \n",
       "2  user_000001                         (D)Ecaying Beauty     Richie Hawtin   \n",
       "3  user_000001                           (Far From) Home              Tiga   \n",
       "4  user_000001            (Get Off Your) High Horse Lady             Oasis   \n",
       "\n",
       "   listen_count_by_person                                               song  \n",
       "0                      14               '84 Pontiac Dream - Boards Of Canada  \n",
       "1                       3  (All I Wanted Was To Make You) Feel Good - Bug...  \n",
       "2                       1                  (D)Ecaying Beauty - Richie Hawtin  \n",
       "3                       1                             (Far From) Home - Tiga  \n",
       "4                       1             (Get Off Your) High Horse Lady - Oasis  "
      ]
     },
     "execution_count": 29,
     "metadata": {},
     "output_type": "execute_result"
    }
   ],
   "source": [
    "listencount['song'] = listencount['traname'] + ' - ' + listencount['artname']\n",
    "listencount.head()"
   ]
  },
  {
   "cell_type": "code",
   "execution_count": 30,
   "metadata": {},
   "outputs": [
    {
     "data": {
      "text/plain": [
       "(4613461, 5)"
      ]
     },
     "execution_count": 30,
     "metadata": {},
     "output_type": "execute_result"
    }
   ],
   "source": [
    "listencount.shape"
   ]
  },
  {
   "cell_type": "markdown",
   "metadata": {},
   "source": [
    "### Clean song data"
   ]
  },
  {
   "cell_type": "code",
   "execution_count": 31,
   "metadata": {},
   "outputs": [
    {
     "data": {
      "text/html": [
       "<div>\n",
       "<style scoped>\n",
       "    .dataframe tbody tr th:only-of-type {\n",
       "        vertical-align: middle;\n",
       "    }\n",
       "\n",
       "    .dataframe tbody tr th {\n",
       "        vertical-align: top;\n",
       "    }\n",
       "\n",
       "    .dataframe thead th {\n",
       "        text-align: right;\n",
       "    }\n",
       "</style>\n",
       "<table border=\"1\" class=\"dataframe\">\n",
       "  <thead>\n",
       "    <tr style=\"text-align: right;\">\n",
       "      <th></th>\n",
       "      <th>traname</th>\n",
       "      <th>artname</th>\n",
       "      <th>users_per_song</th>\n",
       "      <th>song</th>\n",
       "    </tr>\n",
       "  </thead>\n",
       "  <tbody>\n",
       "    <tr>\n",
       "      <th>0</th>\n",
       "      <td>\u001b戀上你是書中主角 The Library</td>\n",
       "      <td>Inlove</td>\n",
       "      <td>1</td>\n",
       "      <td>\u001b戀上你是書中主角 The Library - Inlove</td>\n",
       "    </tr>\n",
       "    <tr>\n",
       "      <th>1</th>\n",
       "      <td></td>\n",
       "      <td>!;04:&amp;Gt;56:0, @C&amp;Lt;0=, \u0014654</td>\n",
       "      <td>1</td>\n",
       "      <td>- !;04:&amp;Gt;56:0, @C&amp;Lt;0=, \u0014654</td>\n",
       "    </tr>\n",
       "    <tr>\n",
       "      <th>2</th>\n",
       "      <td>~Kuuhaku~</td>\n",
       "      <td>Panic☆Ch</td>\n",
       "      <td>1</td>\n",
       "      <td>~Kuuhaku~ - Panic☆Ch</td>\n",
       "    </tr>\n",
       "    <tr>\n",
       "      <th>3</th>\n",
       "      <td>~Kuuhaku~</td>\n",
       "      <td>パニックちゃんねる</td>\n",
       "      <td>1</td>\n",
       "      <td>~Kuuhaku~ - パニックちゃんねる</td>\n",
       "    </tr>\n",
       "    <tr>\n",
       "      <th>4</th>\n",
       "      <td>M.A.K.E.L.O.V.E.T.O.M.E   (Mazerati Mix)</td>\n",
       "      <td>Channel 7 Featuring Vanessa Carlton</td>\n",
       "      <td>1</td>\n",
       "      <td>M.A.K.E.L.O.V.E.T.O.M.E   (Mazerati Mix) - Ch...</td>\n",
       "    </tr>\n",
       "  </tbody>\n",
       "</table>\n",
       "</div>"
      ],
      "text/plain": [
       "                                     traname  \\\n",
       "0                      \u001b戀上你是書中主角 The Library   \n",
       "1                                          \n",
       "   \n",
       "2                                  ~Kuuhaku~   \n",
       "3                                  ~Kuuhaku~   \n",
       "4   M.A.K.E.L.O.V.E.T.O.M.E   (Mazerati Mix)   \n",
       "\n",
       "                               artname  users_per_song  \\\n",
       "0                               Inlove               1   \n",
       "1        !;04:&Gt;56:0, @C&Lt;0=, \u0014654               1   \n",
       "2                             Panic☆Ch               1   \n",
       "3                            パニックちゃんねる               1   \n",
       "4  Channel 7 Featuring Vanessa Carlton               1   \n",
       "\n",
       "                                                song  \n",
       "0                     \u001b戀上你是書中主角 The Library - Inlove  \n",
       "1                  \n",
       " - !;04:&Gt;56:0, @C&Lt;0=, \u0014654  \n",
       "2                               ~Kuuhaku~ - Panic☆Ch  \n",
       "3                              ~Kuuhaku~ - パニックちゃんねる  \n",
       "4   M.A.K.E.L.O.V.E.T.O.M.E   (Mazerati Mix) - Ch...  "
      ]
     },
     "execution_count": 31,
     "metadata": {},
     "output_type": "execute_result"
    }
   ],
   "source": [
    "# group by users per unique pair of song title and artist\n",
    "users_per_song = listencount.groupby(['traname','artname']).size().reset_index(name='users_per_song')\n",
    "users_per_song['song'] = users_per_song['traname'] + ' - ' + users_per_song['artname']\n",
    "users_per_song.head()"
   ]
  },
  {
   "cell_type": "code",
   "execution_count": 32,
   "metadata": {},
   "outputs": [
    {
     "data": {
      "text/plain": [
       "(1498950, 4)"
      ]
     },
     "execution_count": 32,
     "metadata": {},
     "output_type": "execute_result"
    }
   ],
   "source": [
    "users_per_song.shape"
   ]
  },
  {
   "cell_type": "code",
   "execution_count": 33,
   "metadata": {},
   "outputs": [
    {
     "data": {
      "text/plain": [
       "(72264, 2)"
      ]
     },
     "execution_count": 33,
     "metadata": {},
     "output_type": "execute_result"
    }
   ],
   "source": [
    "# threshold of users per song, below are ignored\n",
    "threshold_users_per_song = 10\n",
    "mask = users_per_song[['song','users_per_song']].loc[users_per_song['users_per_song'] > threshold_users_per_song]\n",
    "mask.shape # total number of unique pair of song title and artist"
   ]
  },
  {
   "cell_type": "code",
   "execution_count": 34,
   "metadata": {},
   "outputs": [
    {
     "data": {
      "text/html": [
       "<div>\n",
       "<style scoped>\n",
       "    .dataframe tbody tr th:only-of-type {\n",
       "        vertical-align: middle;\n",
       "    }\n",
       "\n",
       "    .dataframe tbody tr th {\n",
       "        vertical-align: top;\n",
       "    }\n",
       "\n",
       "    .dataframe thead th {\n",
       "        text-align: right;\n",
       "    }\n",
       "</style>\n",
       "<table border=\"1\" class=\"dataframe\">\n",
       "  <thead>\n",
       "    <tr style=\"text-align: right;\">\n",
       "      <th></th>\n",
       "      <th>song</th>\n",
       "      <th>users_per_song</th>\n",
       "    </tr>\n",
       "  </thead>\n",
       "  <tbody>\n",
       "    <tr>\n",
       "      <th>9</th>\n",
       "      <td>! (Foreword) - Pain Of Salvation</td>\n",
       "      <td>11</td>\n",
       "    </tr>\n",
       "    <tr>\n",
       "      <th>86</th>\n",
       "      <td>#1 - Animal Collective</td>\n",
       "      <td>56</td>\n",
       "    </tr>\n",
       "    <tr>\n",
       "      <th>111</th>\n",
       "      <td>#1 Crush - Garbage</td>\n",
       "      <td>63</td>\n",
       "    </tr>\n",
       "    <tr>\n",
       "      <th>125</th>\n",
       "      <td>#1 Hit Jam - The Brian Jonestown Massacre</td>\n",
       "      <td>18</td>\n",
       "    </tr>\n",
       "    <tr>\n",
       "      <th>127</th>\n",
       "      <td>#1 Hit Song - Minutemen</td>\n",
       "      <td>18</td>\n",
       "    </tr>\n",
       "  </tbody>\n",
       "</table>\n",
       "</div>"
      ],
      "text/plain": [
       "                                          song  users_per_song\n",
       "9             ! (Foreword) - Pain Of Salvation              11\n",
       "86                      #1 - Animal Collective              56\n",
       "111                         #1 Crush - Garbage              63\n",
       "125  #1 Hit Jam - The Brian Jonestown Massacre              18\n",
       "127                    #1 Hit Song - Minutemen              18"
      ]
     },
     "execution_count": 34,
     "metadata": {},
     "output_type": "execute_result"
    }
   ],
   "source": [
    "mask.head()"
   ]
  },
  {
   "cell_type": "code",
   "execution_count": 35,
   "metadata": {},
   "outputs": [
    {
     "data": {
      "text/html": [
       "<div>\n",
       "<style scoped>\n",
       "    .dataframe tbody tr th:only-of-type {\n",
       "        vertical-align: middle;\n",
       "    }\n",
       "\n",
       "    .dataframe tbody tr th {\n",
       "        vertical-align: top;\n",
       "    }\n",
       "\n",
       "    .dataframe thead th {\n",
       "        text-align: right;\n",
       "    }\n",
       "</style>\n",
       "<table border=\"1\" class=\"dataframe\">\n",
       "  <thead>\n",
       "    <tr style=\"text-align: right;\">\n",
       "      <th></th>\n",
       "      <th>userid</th>\n",
       "      <th>traname</th>\n",
       "      <th>artname</th>\n",
       "      <th>listen_count_by_person</th>\n",
       "      <th>song</th>\n",
       "    </tr>\n",
       "  </thead>\n",
       "  <tbody>\n",
       "    <tr>\n",
       "      <th>0</th>\n",
       "      <td>user_000001</td>\n",
       "      <td>'84 Pontiac Dream</td>\n",
       "      <td>Boards Of Canada</td>\n",
       "      <td>14</td>\n",
       "      <td>'84 Pontiac Dream - Boards Of Canada</td>\n",
       "    </tr>\n",
       "    <tr>\n",
       "      <th>3</th>\n",
       "      <td>user_000001</td>\n",
       "      <td>(Far From) Home</td>\n",
       "      <td>Tiga</td>\n",
       "      <td>1</td>\n",
       "      <td>(Far From) Home - Tiga</td>\n",
       "    </tr>\n",
       "    <tr>\n",
       "      <th>4</th>\n",
       "      <td>user_000001</td>\n",
       "      <td>(Get Off Your) High Horse Lady</td>\n",
       "      <td>Oasis</td>\n",
       "      <td>1</td>\n",
       "      <td>(Get Off Your) High Horse Lady - Oasis</td>\n",
       "    </tr>\n",
       "    <tr>\n",
       "      <th>6</th>\n",
       "      <td>user_000001</td>\n",
       "      <td>(Nice Dream)</td>\n",
       "      <td>Radiohead</td>\n",
       "      <td>1</td>\n",
       "      <td>(Nice Dream) - Radiohead</td>\n",
       "    </tr>\n",
       "    <tr>\n",
       "      <th>20</th>\n",
       "      <td>user_000001</td>\n",
       "      <td>15 Step</td>\n",
       "      <td>Radiohead</td>\n",
       "      <td>24</td>\n",
       "      <td>15 Step - Radiohead</td>\n",
       "    </tr>\n",
       "  </tbody>\n",
       "</table>\n",
       "</div>"
      ],
      "text/plain": [
       "         userid                         traname           artname  \\\n",
       "0   user_000001               '84 Pontiac Dream  Boards Of Canada   \n",
       "3   user_000001                 (Far From) Home              Tiga   \n",
       "4   user_000001  (Get Off Your) High Horse Lady             Oasis   \n",
       "6   user_000001                    (Nice Dream)         Radiohead   \n",
       "20  user_000001                         15 Step         Radiohead   \n",
       "\n",
       "    listen_count_by_person                                    song  \n",
       "0                       14    '84 Pontiac Dream - Boards Of Canada  \n",
       "3                        1                  (Far From) Home - Tiga  \n",
       "4                        1  (Get Off Your) High Horse Lady - Oasis  \n",
       "6                        1                (Nice Dream) - Radiohead  \n",
       "20                      24                     15 Step - Radiohead  "
      ]
     },
     "execution_count": 35,
     "metadata": {},
     "output_type": "execute_result"
    }
   ],
   "source": [
    "# cleaning the user listening history, keeping only the songs above 10 listeners\n",
    "clean_user_tracks = listencount[listencount['song'].isin(mask['song'])].copy()\n",
    "clean_user_tracks.head()"
   ]
  },
  {
   "cell_type": "code",
   "execution_count": 36,
   "metadata": {},
   "outputs": [
    {
     "data": {
      "text/plain": [
       "(2071360, 5)"
      ]
     },
     "execution_count": 36,
     "metadata": {},
     "output_type": "execute_result"
    }
   ],
   "source": [
    "# records were reduced by 2 million and a half\n",
    "clean_user_tracks.shape"
   ]
  },
  {
   "cell_type": "code",
   "execution_count": 37,
   "metadata": {},
   "outputs": [],
   "source": [
    "# map song title to an ID in a dictionary for easy access\n",
    "song_index = {}\n",
    "song_index = {k: v for v, k in enumerate(mask['song'].values)}\n",
    "index_song = {}\n",
    "index_song = {idx: song for song, idx in song_index.items()}"
   ]
  },
  {
   "cell_type": "code",
   "execution_count": 38,
   "metadata": {},
   "outputs": [
    {
     "data": {
      "text/plain": [
       "'! (Foreword) - Pain Of Salvation'"
      ]
     },
     "execution_count": 38,
     "metadata": {},
     "output_type": "execute_result"
    }
   ],
   "source": [
    "index_song[0]"
   ]
  },
  {
   "cell_type": "markdown",
   "metadata": {},
   "source": [
    "### Getting song tags"
   ]
  },
  {
   "cell_type": "code",
   "execution_count": 39,
   "metadata": {},
   "outputs": [
    {
     "data": {
      "text/html": [
       "<div>\n",
       "<style scoped>\n",
       "    .dataframe tbody tr th:only-of-type {\n",
       "        vertical-align: middle;\n",
       "    }\n",
       "\n",
       "    .dataframe tbody tr th {\n",
       "        vertical-align: top;\n",
       "    }\n",
       "\n",
       "    .dataframe thead th {\n",
       "        text-align: right;\n",
       "    }\n",
       "</style>\n",
       "<table border=\"1\" class=\"dataframe\">\n",
       "  <thead>\n",
       "    <tr style=\"text-align: right;\">\n",
       "      <th></th>\n",
       "      <th>song</th>\n",
       "      <th>tags</th>\n",
       "    </tr>\n",
       "  </thead>\n",
       "  <tbody>\n",
       "    <tr>\n",
       "      <th>0</th>\n",
       "      <td>! (Foreword) - Pain Of Salvation</td>\n",
       "      <td>['progressive metal', 'progressive rock', 'met...</td>\n",
       "    </tr>\n",
       "    <tr>\n",
       "      <th>1</th>\n",
       "      <td>#1 - Animal Collective</td>\n",
       "      <td>[]</td>\n",
       "    </tr>\n",
       "    <tr>\n",
       "      <th>2</th>\n",
       "      <td>#1 Crush - Garbage</td>\n",
       "      <td>[]</td>\n",
       "    </tr>\n",
       "    <tr>\n",
       "      <th>3</th>\n",
       "      <td>#1 Hit Jam - The Brian Jonestown Massacre</td>\n",
       "      <td>[]</td>\n",
       "    </tr>\n",
       "    <tr>\n",
       "      <th>4</th>\n",
       "      <td>#1 Hit Song - Minutemen</td>\n",
       "      <td>[]</td>\n",
       "    </tr>\n",
       "  </tbody>\n",
       "</table>\n",
       "</div>"
      ],
      "text/plain": [
       "                                        song  \\\n",
       "0           ! (Foreword) - Pain Of Salvation   \n",
       "1                     #1 - Animal Collective   \n",
       "2                         #1 Crush - Garbage   \n",
       "3  #1 Hit Jam - The Brian Jonestown Massacre   \n",
       "4                    #1 Hit Song - Minutemen   \n",
       "\n",
       "                                                tags  \n",
       "0  ['progressive metal', 'progressive rock', 'met...  \n",
       "1                                                 []  \n",
       "2                                                 []  \n",
       "3                                                 []  \n",
       "4                                                 []  "
      ]
     },
     "execution_count": 39,
     "metadata": {},
     "output_type": "execute_result"
    }
   ],
   "source": [
    "songs_tags = pd.read_csv('songs_tags.csv')\n",
    "songs_tags.head()"
   ]
  },
  {
   "cell_type": "code",
   "execution_count": 40,
   "metadata": {},
   "outputs": [],
   "source": [
    "# dictionary of relationship between songs and tags\n",
    "song_tags_dict = songs_tags.set_index('song').T.to_dict('list')"
   ]
  },
  {
   "cell_type": "code",
   "execution_count": 41,
   "metadata": {},
   "outputs": [
    {
     "data": {
      "text/html": [
       "<div>\n",
       "<style scoped>\n",
       "    .dataframe tbody tr th:only-of-type {\n",
       "        vertical-align: middle;\n",
       "    }\n",
       "\n",
       "    .dataframe tbody tr th {\n",
       "        vertical-align: top;\n",
       "    }\n",
       "\n",
       "    .dataframe thead th {\n",
       "        text-align: right;\n",
       "    }\n",
       "</style>\n",
       "<table border=\"1\" class=\"dataframe\">\n",
       "  <thead>\n",
       "    <tr style=\"text-align: right;\">\n",
       "      <th></th>\n",
       "      <th>traname</th>\n",
       "      <th>artname</th>\n",
       "      <th>listeners_per_song</th>\n",
       "      <th>song</th>\n",
       "    </tr>\n",
       "  </thead>\n",
       "  <tbody>\n",
       "    <tr>\n",
       "      <th>0</th>\n",
       "      <td>! (Foreword)</td>\n",
       "      <td>Pain Of Salvation</td>\n",
       "      <td>11</td>\n",
       "      <td>! (Foreword) - Pain Of Salvation</td>\n",
       "    </tr>\n",
       "    <tr>\n",
       "      <th>1</th>\n",
       "      <td>#1</td>\n",
       "      <td>Animal Collective</td>\n",
       "      <td>56</td>\n",
       "      <td>#1 - Animal Collective</td>\n",
       "    </tr>\n",
       "    <tr>\n",
       "      <th>2</th>\n",
       "      <td>#1 Crush</td>\n",
       "      <td>Garbage</td>\n",
       "      <td>63</td>\n",
       "      <td>#1 Crush - Garbage</td>\n",
       "    </tr>\n",
       "    <tr>\n",
       "      <th>3</th>\n",
       "      <td>#1 Hit Jam</td>\n",
       "      <td>The Brian Jonestown Massacre</td>\n",
       "      <td>18</td>\n",
       "      <td>#1 Hit Jam - The Brian Jonestown Massacre</td>\n",
       "    </tr>\n",
       "    <tr>\n",
       "      <th>4</th>\n",
       "      <td>#1 Hit Song</td>\n",
       "      <td>Minutemen</td>\n",
       "      <td>18</td>\n",
       "      <td>#1 Hit Song - Minutemen</td>\n",
       "    </tr>\n",
       "  </tbody>\n",
       "</table>\n",
       "</div>"
      ],
      "text/plain": [
       "        traname                       artname  listeners_per_song  \\\n",
       "0  ! (Foreword)             Pain Of Salvation                  11   \n",
       "1            #1             Animal Collective                  56   \n",
       "2      #1 Crush                       Garbage                  63   \n",
       "3    #1 Hit Jam  The Brian Jonestown Massacre                  18   \n",
       "4   #1 Hit Song                     Minutemen                  18   \n",
       "\n",
       "                                        song  \n",
       "0           ! (Foreword) - Pain Of Salvation  \n",
       "1                     #1 - Animal Collective  \n",
       "2                         #1 Crush - Garbage  \n",
       "3  #1 Hit Jam - The Brian Jonestown Massacre  \n",
       "4                    #1 Hit Song - Minutemen  "
      ]
     },
     "execution_count": 41,
     "metadata": {},
     "output_type": "execute_result"
    }
   ],
   "source": [
    "# getting all the unique pair of songs and artist to assign tags\n",
    "lps = clean_user_tracks.groupby(['traname','artname']).size().reset_index(name='listeners_per_song')\n",
    "lps['song'] = lps['traname'] + ' - ' + lps['artname']\n",
    "lps.head()"
   ]
  },
  {
   "cell_type": "code",
   "execution_count": 42,
   "metadata": {},
   "outputs": [
    {
     "data": {
      "text/html": [
       "<div>\n",
       "<style scoped>\n",
       "    .dataframe tbody tr th:only-of-type {\n",
       "        vertical-align: middle;\n",
       "    }\n",
       "\n",
       "    .dataframe tbody tr th {\n",
       "        vertical-align: top;\n",
       "    }\n",
       "\n",
       "    .dataframe thead th {\n",
       "        text-align: right;\n",
       "    }\n",
       "</style>\n",
       "<table border=\"1\" class=\"dataframe\">\n",
       "  <thead>\n",
       "    <tr style=\"text-align: right;\">\n",
       "      <th></th>\n",
       "      <th>traname</th>\n",
       "      <th>artname</th>\n",
       "      <th>listeners_per_song</th>\n",
       "      <th>song</th>\n",
       "      <th>tags</th>\n",
       "    </tr>\n",
       "  </thead>\n",
       "  <tbody>\n",
       "    <tr>\n",
       "      <th>0</th>\n",
       "      <td>! (Foreword)</td>\n",
       "      <td>Pain Of Salvation</td>\n",
       "      <td>11</td>\n",
       "      <td>! (Foreword) - Pain Of Salvation</td>\n",
       "      <td>[progressive metal, progressive rock, metal, p...</td>\n",
       "    </tr>\n",
       "    <tr>\n",
       "      <th>1</th>\n",
       "      <td>#1</td>\n",
       "      <td>Animal Collective</td>\n",
       "      <td>56</td>\n",
       "      <td>#1 - Animal Collective</td>\n",
       "      <td>[]</td>\n",
       "    </tr>\n",
       "    <tr>\n",
       "      <th>2</th>\n",
       "      <td>#1 Crush</td>\n",
       "      <td>Garbage</td>\n",
       "      <td>63</td>\n",
       "      <td>#1 Crush - Garbage</td>\n",
       "      <td>[]</td>\n",
       "    </tr>\n",
       "    <tr>\n",
       "      <th>3</th>\n",
       "      <td>#1 Hit Jam</td>\n",
       "      <td>The Brian Jonestown Massacre</td>\n",
       "      <td>18</td>\n",
       "      <td>#1 Hit Jam - The Brian Jonestown Massacre</td>\n",
       "      <td>[]</td>\n",
       "    </tr>\n",
       "    <tr>\n",
       "      <th>4</th>\n",
       "      <td>#1 Hit Song</td>\n",
       "      <td>Minutemen</td>\n",
       "      <td>18</td>\n",
       "      <td>#1 Hit Song - Minutemen</td>\n",
       "      <td>[]</td>\n",
       "    </tr>\n",
       "  </tbody>\n",
       "</table>\n",
       "</div>"
      ],
      "text/plain": [
       "        traname                       artname  listeners_per_song  \\\n",
       "0  ! (Foreword)             Pain Of Salvation                  11   \n",
       "1            #1             Animal Collective                  56   \n",
       "2      #1 Crush                       Garbage                  63   \n",
       "3    #1 Hit Jam  The Brian Jonestown Massacre                  18   \n",
       "4   #1 Hit Song                     Minutemen                  18   \n",
       "\n",
       "                                        song  \\\n",
       "0           ! (Foreword) - Pain Of Salvation   \n",
       "1                     #1 - Animal Collective   \n",
       "2                         #1 Crush - Garbage   \n",
       "3  #1 Hit Jam - The Brian Jonestown Massacre   \n",
       "4                    #1 Hit Song - Minutemen   \n",
       "\n",
       "                                                tags  \n",
       "0  [progressive metal, progressive rock, metal, p...  \n",
       "1                                                 []  \n",
       "2                                                 []  \n",
       "3                                                 []  \n",
       "4                                                 []  "
      ]
     },
     "execution_count": 42,
     "metadata": {},
     "output_type": "execute_result"
    }
   ],
   "source": [
    "# assigning tags to songs in the dataframe\n",
    "lps['tags'] = songs_tags['tags']\n",
    "lps['tags'] = lps.tags.apply(lambda x: literal_eval(str(x))) # removing string from array when importing\n",
    "lps.head()"
   ]
  },
  {
   "cell_type": "markdown",
   "metadata": {},
   "source": [
    "### Creating song embeddings"
   ]
  },
  {
   "cell_type": "code",
   "execution_count": 48,
   "metadata": {},
   "outputs": [
    {
     "data": {
      "text/plain": [
       "[['progressive metal',\n",
       "  'progressive rock',\n",
       "  'metal',\n",
       "  'progressive',\n",
       "  'rock',\n",
       "  'swedish metal',\n",
       "  'godly singing',\n",
       "  'heavy metal',\n",
       "  'seen live',\n",
       "  'swedish'],\n",
       " [],\n",
       " [],\n",
       " [],\n",
       " []]"
      ]
     },
     "execution_count": 48,
     "metadata": {},
     "output_type": "execute_result"
    }
   ],
   "source": [
    "# Getting all tags in a list of list\n",
    "tags_list = list(lps['tags'].values)\n",
    "tags_list[:5]"
   ]
  },
  {
   "cell_type": "code",
   "execution_count": 49,
   "metadata": {},
   "outputs": [],
   "source": [
    "# get all unique tags in a list\n",
    "# THIS TAKES A LOT TO RUN, MANY TAGS AHHH\n",
    "all_tags = sum(tags_list,[])\n",
    "unique_tags = set(all_tags)"
   ]
  },
  {
   "cell_type": "code",
   "execution_count": 50,
   "metadata": {},
   "outputs": [
    {
     "data": {
      "text/plain": [
       "27745"
      ]
     },
     "execution_count": 50,
     "metadata": {},
     "output_type": "execute_result"
    }
   ],
   "source": [
    "# A lot of unique tags, we need to reduce this\n",
    "len(unique_tags)"
   ]
  },
  {
   "cell_type": "code",
   "execution_count": 51,
   "metadata": {},
   "outputs": [
    {
     "data": {
      "text/plain": [
       "FreqDist({'rock': 36082, 'alternative': 26846, 'indie': 23692, 'pop': 14444, 'alternative rock': 14440, 'electronic': 14412, 'indie rock': 13105, 'female vocalists': 10244, 'british': 10066, 'electronica': 8437, ...})"
      ]
     },
     "execution_count": 51,
     "metadata": {},
     "output_type": "execute_result"
    }
   ],
   "source": [
    "all_tags_freq = nltk.FreqDist(all_tags)\n",
    "all_tags_freq"
   ]
  },
  {
   "cell_type": "code",
   "execution_count": 52,
   "metadata": {},
   "outputs": [],
   "source": [
    "all_tags_df = pd.DataFrame({'Tag': list(all_tags_freq.keys()), \n",
    "                              'Count': list(all_tags_freq.values())})"
   ]
  },
  {
   "cell_type": "code",
   "execution_count": 120,
   "metadata": {},
   "outputs": [
    {
     "data": {
      "image/png": "[encoded data removed]",
      "text/plain": [
       "<Figure size 432x288 with 1 Axes>"
      ]
     },
     "metadata": {},
     "output_type": "display_data"
    }
   ],
   "source": [
    "# let's get the 50 more popular tags\n",
    "g = all_tags_df.nlargest(columns=\"Count\", n = 20) \n",
    "plt.title(\"Grouped tags by song count\") \n",
    "ax = sns.barplot(data=g, x= \"Count\", y = \"Tag\") \n",
    "ax.set(ylabel = 'Tag') \n",
    "plt.show()"
   ]
  },
  {
   "cell_type": "code",
   "execution_count": 54,
   "metadata": {},
   "outputs": [],
   "source": [
    "# 100 tags only\n",
    "tags_array_r = g['Tag'].values"
   ]
  },
  {
   "cell_type": "code",
   "execution_count": 55,
   "metadata": {},
   "outputs": [],
   "source": [
    "res = []\n",
    "for tags in tags_list:\n",
    "    filter_tags = []\n",
    "    for tag in tags:\n",
    "        if tag in tags_array_r:\n",
    "            filter_tags.append(tag)\n",
    "    res.append(filter_tags)"
   ]
  },
  {
   "cell_type": "code",
   "execution_count": 56,
   "metadata": {},
   "outputs": [],
   "source": [
    "lps['filter_tags'] = res"
   ]
  },
  {
   "cell_type": "code",
   "execution_count": 57,
   "metadata": {},
   "outputs": [
    {
     "data": {
      "text/html": [
       "<div>\n",
       "<style scoped>\n",
       "    .dataframe tbody tr th:only-of-type {\n",
       "        vertical-align: middle;\n",
       "    }\n",
       "\n",
       "    .dataframe tbody tr th {\n",
       "        vertical-align: top;\n",
       "    }\n",
       "\n",
       "    .dataframe thead th {\n",
       "        text-align: right;\n",
       "    }\n",
       "</style>\n",
       "<table border=\"1\" class=\"dataframe\">\n",
       "  <thead>\n",
       "    <tr style=\"text-align: right;\">\n",
       "      <th></th>\n",
       "      <th>traname</th>\n",
       "      <th>artname</th>\n",
       "      <th>listeners_per_song</th>\n",
       "      <th>song</th>\n",
       "      <th>tags</th>\n",
       "      <th>filter_tags</th>\n",
       "    </tr>\n",
       "  </thead>\n",
       "  <tbody>\n",
       "    <tr>\n",
       "      <th>0</th>\n",
       "      <td>! (Foreword)</td>\n",
       "      <td>Pain Of Salvation</td>\n",
       "      <td>11</td>\n",
       "      <td>! (Foreword) - Pain Of Salvation</td>\n",
       "      <td>[progressive metal, progressive rock, metal, p...</td>\n",
       "      <td>[progressive metal, progressive rock, metal, p...</td>\n",
       "    </tr>\n",
       "    <tr>\n",
       "      <th>1</th>\n",
       "      <td>#1</td>\n",
       "      <td>Animal Collective</td>\n",
       "      <td>56</td>\n",
       "      <td>#1 - Animal Collective</td>\n",
       "      <td>[]</td>\n",
       "      <td>[]</td>\n",
       "    </tr>\n",
       "    <tr>\n",
       "      <th>2</th>\n",
       "      <td>#1 Crush</td>\n",
       "      <td>Garbage</td>\n",
       "      <td>63</td>\n",
       "      <td>#1 Crush - Garbage</td>\n",
       "      <td>[]</td>\n",
       "      <td>[]</td>\n",
       "    </tr>\n",
       "    <tr>\n",
       "      <th>3</th>\n",
       "      <td>#1 Hit Jam</td>\n",
       "      <td>The Brian Jonestown Massacre</td>\n",
       "      <td>18</td>\n",
       "      <td>#1 Hit Jam - The Brian Jonestown Massacre</td>\n",
       "      <td>[]</td>\n",
       "      <td>[]</td>\n",
       "    </tr>\n",
       "    <tr>\n",
       "      <th>4</th>\n",
       "      <td>#1 Hit Song</td>\n",
       "      <td>Minutemen</td>\n",
       "      <td>18</td>\n",
       "      <td>#1 Hit Song - Minutemen</td>\n",
       "      <td>[]</td>\n",
       "      <td>[]</td>\n",
       "    </tr>\n",
       "  </tbody>\n",
       "</table>\n",
       "</div>"
      ],
      "text/plain": [
       "        traname                       artname  listeners_per_song  \\\n",
       "0  ! (Foreword)             Pain Of Salvation                  11   \n",
       "1            #1             Animal Collective                  56   \n",
       "2      #1 Crush                       Garbage                  63   \n",
       "3    #1 Hit Jam  The Brian Jonestown Massacre                  18   \n",
       "4   #1 Hit Song                     Minutemen                  18   \n",
       "\n",
       "                                        song  \\\n",
       "0           ! (Foreword) - Pain Of Salvation   \n",
       "1                     #1 - Animal Collective   \n",
       "2                         #1 Crush - Garbage   \n",
       "3  #1 Hit Jam - The Brian Jonestown Massacre   \n",
       "4                    #1 Hit Song - Minutemen   \n",
       "\n",
       "                                                tags  \\\n",
       "0  [progressive metal, progressive rock, metal, p...   \n",
       "1                                                 []   \n",
       "2                                                 []   \n",
       "3                                                 []   \n",
       "4                                                 []   \n",
       "\n",
       "                                         filter_tags  \n",
       "0  [progressive metal, progressive rock, metal, p...  \n",
       "1                                                 []  \n",
       "2                                                 []  \n",
       "3                                                 []  \n",
       "4                                                 []  "
      ]
     },
     "execution_count": 57,
     "metadata": {},
     "output_type": "execute_result"
    }
   ],
   "source": [
    "lps.head()"
   ]
  },
  {
   "cell_type": "code",
   "execution_count": 58,
   "metadata": {},
   "outputs": [],
   "source": [
    "mlb = MultiLabelBinarizer()\n",
    "tag_features = mlb.fit_transform(res)\n",
    "n_tags = tag_features.shape[1]"
   ]
  },
  {
   "cell_type": "code",
   "execution_count": 59,
   "metadata": {},
   "outputs": [
    {
     "data": {
      "text/plain": [
       "array([0, 0, 0, 0, 0, 0, 0, 0, 0, 0, 0, 0, 0, 0, 0, 0, 0, 0, 0, 0, 0, 0,\n",
       "       0, 0, 0, 0, 0, 0, 0, 0, 0, 0, 0, 0, 0, 0, 0, 0, 0, 0, 0, 0, 0, 0,\n",
       "       0, 0, 0, 0, 1, 0, 0, 0, 0, 0, 0, 0, 0, 0, 0, 0, 0, 0, 0, 0, 0, 1,\n",
       "       0, 0, 0, 0, 0, 0, 0, 0, 0, 0, 1, 1, 1, 0, 0, 0, 0, 0, 0, 1, 0, 1,\n",
       "       0, 0, 0, 0, 0, 1, 0, 0, 0, 0, 0, 0])"
      ]
     },
     "execution_count": 59,
     "metadata": {},
     "output_type": "execute_result"
    }
   ],
   "source": [
    "tag_features[0]"
   ]
  },
  {
   "cell_type": "code",
   "execution_count": 60,
   "metadata": {},
   "outputs": [
    {
     "data": {
      "text/plain": [
       "array(['00s', '60s', '70s', '80s', '90s', 'acoustic', 'alternative',\n",
       "       'alternative metal', 'alternative rock', 'ambient', 'american',\n",
       "       'awesome', 'beautiful', 'blues', 'blues rock', 'british',\n",
       "       'british i like', 'britpop', 'canadian', 'chill', 'chillout',\n",
       "       'classic rock', 'cover', 'covers', 'dance', 'death metal',\n",
       "       'downtempo', 'electro', 'electronic', 'electronica', 'emo', 'epic',\n",
       "       'experimental', 'favorites', 'female vocalist', 'female vocalists',\n",
       "       'folk', 'folk rock', 'french', 'funk', 'gothic', 'gothic metal',\n",
       "       'grunge', 'guitar', 'happy', 'hard rock', 'hardcore',\n",
       "       'heard on pandora', 'heavy metal', 'hip hop', 'house', 'idm',\n",
       "       'indie', 'indie pop', 'indie rock', 'industrial', 'instrumental',\n",
       "       'jazz', 'lo fi', 'lounge', 'love', 'male vocalists', 'melancholy',\n",
       "       'mellow', 'melodic death metal', 'metal', 'new wave', 'nu metal',\n",
       "       'oldies', 'piano', 'pop', 'pop punk', 'pop rock', 'post hardcore',\n",
       "       'post punk', 'post rock', 'progressive', 'progressive metal',\n",
       "       'progressive rock', 'psychedelic', 'psychedelic rock', 'punk',\n",
       "       'punk rock', 'rap', 'rnb', 'rock', 'sad', 'seen live', 'sexy',\n",
       "       'shoegaze', 'singer songwriter', 'soul', 'soundtrack', 'swedish',\n",
       "       'synthpop', 'techno', 'thrash metal', 'trance', 'trip hop',\n",
       "       'vugube62'], dtype=object)"
      ]
     },
     "execution_count": 60,
     "metadata": {},
     "output_type": "execute_result"
    }
   ],
   "source": [
    "mlb.classes_"
   ]
  },
  {
   "cell_type": "code",
   "execution_count": 61,
   "metadata": {},
   "outputs": [],
   "source": [
    "# convert tags to dictionary\n",
    "tag_index = {}\n",
    "tag_index = {k: v for v, k in enumerate(mlb.classes_)}\n",
    "index_tag = {}\n",
    "index_tag = {idx: tag for tag, idx in tag_index.items()}"
   ]
  },
  {
   "cell_type": "code",
   "execution_count": 62,
   "metadata": {},
   "outputs": [
    {
     "data": {
      "text/plain": [
       "71"
      ]
     },
     "execution_count": 62,
     "metadata": {},
     "output_type": "execute_result"
    }
   ],
   "source": [
    "tag_index['pop punk']"
   ]
  },
  {
   "cell_type": "code",
   "execution_count": 63,
   "metadata": {},
   "outputs": [
    {
     "data": {
      "text/plain": [
       "array([[0, 0, 0, ..., 0, 0, 0],\n",
       "       [0, 0, 0, ..., 0, 0, 0],\n",
       "       [0, 0, 0, ..., 0, 0, 0],\n",
       "       ...,\n",
       "       [0, 0, 0, ..., 0, 0, 0],\n",
       "       [0, 0, 0, ..., 0, 0, 0],\n",
       "       [0, 0, 0, ..., 0, 0, 0]])"
      ]
     },
     "execution_count": 63,
     "metadata": {},
     "output_type": "execute_result"
    }
   ],
   "source": [
    "song_tag_features = sparse.coo_matrix(tag_features)\n",
    "song_tag_features.toarray()"
   ]
  },
  {
   "cell_type": "markdown",
   "metadata": {},
   "source": [
    "## Interactions embeddings"
   ]
  },
  {
   "cell_type": "code",
   "execution_count": 64,
   "metadata": {},
   "outputs": [
    {
     "data": {
      "text/html": [
       "<div>\n",
       "<style scoped>\n",
       "    .dataframe tbody tr th:only-of-type {\n",
       "        vertical-align: middle;\n",
       "    }\n",
       "\n",
       "    .dataframe tbody tr th {\n",
       "        vertical-align: top;\n",
       "    }\n",
       "\n",
       "    .dataframe thead th {\n",
       "        text-align: right;\n",
       "    }\n",
       "</style>\n",
       "<table border=\"1\" class=\"dataframe\">\n",
       "  <thead>\n",
       "    <tr style=\"text-align: right;\">\n",
       "      <th></th>\n",
       "      <th>userid</th>\n",
       "      <th>traname</th>\n",
       "      <th>artname</th>\n",
       "      <th>listen_count_by_person</th>\n",
       "      <th>song</th>\n",
       "    </tr>\n",
       "  </thead>\n",
       "  <tbody>\n",
       "    <tr>\n",
       "      <th>0</th>\n",
       "      <td>user_000001</td>\n",
       "      <td>'84 Pontiac Dream</td>\n",
       "      <td>Boards Of Canada</td>\n",
       "      <td>14</td>\n",
       "      <td>'84 Pontiac Dream - Boards Of Canada</td>\n",
       "    </tr>\n",
       "    <tr>\n",
       "      <th>3</th>\n",
       "      <td>user_000001</td>\n",
       "      <td>(Far From) Home</td>\n",
       "      <td>Tiga</td>\n",
       "      <td>1</td>\n",
       "      <td>(Far From) Home - Tiga</td>\n",
       "    </tr>\n",
       "    <tr>\n",
       "      <th>4</th>\n",
       "      <td>user_000001</td>\n",
       "      <td>(Get Off Your) High Horse Lady</td>\n",
       "      <td>Oasis</td>\n",
       "      <td>1</td>\n",
       "      <td>(Get Off Your) High Horse Lady - Oasis</td>\n",
       "    </tr>\n",
       "    <tr>\n",
       "      <th>6</th>\n",
       "      <td>user_000001</td>\n",
       "      <td>(Nice Dream)</td>\n",
       "      <td>Radiohead</td>\n",
       "      <td>1</td>\n",
       "      <td>(Nice Dream) - Radiohead</td>\n",
       "    </tr>\n",
       "    <tr>\n",
       "      <th>20</th>\n",
       "      <td>user_000001</td>\n",
       "      <td>15 Step</td>\n",
       "      <td>Radiohead</td>\n",
       "      <td>24</td>\n",
       "      <td>15 Step - Radiohead</td>\n",
       "    </tr>\n",
       "  </tbody>\n",
       "</table>\n",
       "</div>"
      ],
      "text/plain": [
       "         userid                         traname           artname  \\\n",
       "0   user_000001               '84 Pontiac Dream  Boards Of Canada   \n",
       "3   user_000001                 (Far From) Home              Tiga   \n",
       "4   user_000001  (Get Off Your) High Horse Lady             Oasis   \n",
       "6   user_000001                    (Nice Dream)         Radiohead   \n",
       "20  user_000001                         15 Step         Radiohead   \n",
       "\n",
       "    listen_count_by_person                                    song  \n",
       "0                       14    '84 Pontiac Dream - Boards Of Canada  \n",
       "3                        1                  (Far From) Home - Tiga  \n",
       "4                        1  (Get Off Your) High Horse Lady - Oasis  \n",
       "6                        1                (Nice Dream) - Radiohead  \n",
       "20                      24                     15 Step - Radiohead  "
      ]
     },
     "execution_count": 64,
     "metadata": {},
     "output_type": "execute_result"
    }
   ],
   "source": [
    "# all the user with their respective listening history\n",
    "clean_user_tracks.head()"
   ]
  },
  {
   "cell_type": "code",
   "execution_count": 65,
   "metadata": {},
   "outputs": [
    {
     "data": {
      "text/html": [
       "<div>\n",
       "<style scoped>\n",
       "    .dataframe tbody tr th:only-of-type {\n",
       "        vertical-align: middle;\n",
       "    }\n",
       "\n",
       "    .dataframe tbody tr th {\n",
       "        vertical-align: top;\n",
       "    }\n",
       "\n",
       "    .dataframe thead th {\n",
       "        text-align: right;\n",
       "    }\n",
       "</style>\n",
       "<table border=\"1\" class=\"dataframe\">\n",
       "  <thead>\n",
       "    <tr style=\"text-align: right;\">\n",
       "      <th></th>\n",
       "      <th>userid</th>\n",
       "      <th>traname</th>\n",
       "      <th>artname</th>\n",
       "      <th>listen_count_by_person</th>\n",
       "      <th>song</th>\n",
       "      <th>user_id</th>\n",
       "      <th>song_id</th>\n",
       "    </tr>\n",
       "  </thead>\n",
       "  <tbody>\n",
       "    <tr>\n",
       "      <th>0</th>\n",
       "      <td>user_000001</td>\n",
       "      <td>'84 Pontiac Dream</td>\n",
       "      <td>Boards Of Canada</td>\n",
       "      <td>14</td>\n",
       "      <td>'84 Pontiac Dream - Boards Of Canada</td>\n",
       "      <td>0</td>\n",
       "      <td>22</td>\n",
       "    </tr>\n",
       "    <tr>\n",
       "      <th>3</th>\n",
       "      <td>user_000001</td>\n",
       "      <td>(Far From) Home</td>\n",
       "      <td>Tiga</td>\n",
       "      <td>1</td>\n",
       "      <td>(Far From) Home - Tiga</td>\n",
       "      <td>0</td>\n",
       "      <td>74</td>\n",
       "    </tr>\n",
       "    <tr>\n",
       "      <th>4</th>\n",
       "      <td>user_000001</td>\n",
       "      <td>(Get Off Your) High Horse Lady</td>\n",
       "      <td>Oasis</td>\n",
       "      <td>1</td>\n",
       "      <td>(Get Off Your) High Horse Lady - Oasis</td>\n",
       "      <td>0</td>\n",
       "      <td>79</td>\n",
       "    </tr>\n",
       "    <tr>\n",
       "      <th>6</th>\n",
       "      <td>user_000001</td>\n",
       "      <td>(Nice Dream)</td>\n",
       "      <td>Radiohead</td>\n",
       "      <td>1</td>\n",
       "      <td>(Nice Dream) - Radiohead</td>\n",
       "      <td>0</td>\n",
       "      <td>142</td>\n",
       "    </tr>\n",
       "    <tr>\n",
       "      <th>20</th>\n",
       "      <td>user_000001</td>\n",
       "      <td>15 Step</td>\n",
       "      <td>Radiohead</td>\n",
       "      <td>24</td>\n",
       "      <td>15 Step - Radiohead</td>\n",
       "      <td>0</td>\n",
       "      <td>421</td>\n",
       "    </tr>\n",
       "  </tbody>\n",
       "</table>\n",
       "</div>"
      ],
      "text/plain": [
       "         userid                         traname           artname  \\\n",
       "0   user_000001               '84 Pontiac Dream  Boards Of Canada   \n",
       "3   user_000001                 (Far From) Home              Tiga   \n",
       "4   user_000001  (Get Off Your) High Horse Lady             Oasis   \n",
       "6   user_000001                    (Nice Dream)         Radiohead   \n",
       "20  user_000001                         15 Step         Radiohead   \n",
       "\n",
       "    listen_count_by_person                                    song  user_id  \\\n",
       "0                       14    '84 Pontiac Dream - Boards Of Canada        0   \n",
       "3                        1                  (Far From) Home - Tiga        0   \n",
       "4                        1  (Get Off Your) High Horse Lady - Oasis        0   \n",
       "6                        1                (Nice Dream) - Radiohead        0   \n",
       "20                      24                     15 Step - Radiohead        0   \n",
       "\n",
       "    song_id  \n",
       "0        22  \n",
       "3        74  \n",
       "4        79  \n",
       "6       142  \n",
       "20      421  "
      ]
     },
     "execution_count": 65,
     "metadata": {},
     "output_type": "execute_result"
    }
   ],
   "source": [
    "clean_user_tracks['user_id'] = clean_user_tracks['userid'].map(user_index)\n",
    "clean_user_tracks['song_id'] = clean_user_tracks['song'].map(song_index)\n",
    "clean_user_tracks.head()"
   ]
  },
  {
   "cell_type": "code",
   "execution_count": 66,
   "metadata": {},
   "outputs": [],
   "source": [
    "# creating arrays of unique users and songs\n",
    "user_array = clean_user_tracks['user_id'].unique()\n",
    "song_array = clean_user_tracks['song'].unique()"
   ]
  },
  {
   "cell_type": "code",
   "execution_count": 67,
   "metadata": {},
   "outputs": [
    {
     "data": {
      "text/plain": [
       "992"
      ]
     },
     "execution_count": 67,
     "metadata": {},
     "output_type": "execute_result"
    }
   ],
   "source": [
    "n_users = len(user_array)+1\n",
    "n_users"
   ]
  },
  {
   "cell_type": "code",
   "execution_count": 68,
   "metadata": {},
   "outputs": [
    {
     "data": {
      "text/plain": [
       "72264"
      ]
     },
     "execution_count": 68,
     "metadata": {},
     "output_type": "execute_result"
    }
   ],
   "source": [
    "n_items = len(song_array)\n",
    "n_items"
   ]
  },
  {
   "cell_type": "code",
   "execution_count": 69,
   "metadata": {},
   "outputs": [
    {
     "data": {
      "text/plain": [
       "array([[    0,    22,    14],\n",
       "       [    0,    74,     1],\n",
       "       [    0,    79,     1],\n",
       "       ...,\n",
       "       [  991, 72201,     1],\n",
       "       [  991, 72242,     1],\n",
       "       [  991, 72243,    10]])"
      ]
     },
     "execution_count": 69,
     "metadata": {},
     "output_type": "execute_result"
    }
   ],
   "source": [
    "ratings = clean_user_tracks[['user_id', 'song_id', 'listen_count_by_person']].values\n",
    "ratings"
   ]
  },
  {
   "cell_type": "code",
   "execution_count": 70,
   "metadata": {},
   "outputs": [],
   "source": [
    "# This method converts a list of (user, item, rating) to a sparse matrix\n",
    "def interactions_list_to_sparse_matrix(interactions):\n",
    "    users_column, items_column, ratings_column = zip(*interactions)\n",
    "    return sparse.coo_matrix((ratings_column, (users_column, items_column)),shape=(n_users, n_items))"
   ]
  },
  {
   "cell_type": "code",
   "execution_count": 71,
   "metadata": {},
   "outputs": [
    {
     "name": "stdout",
     "output_type": "stream",
     "text": [
      "1657088 train ratings, 414272 test ratings\n"
     ]
    }
   ],
   "source": [
    "train_ratings, test_ratings = train_test_split(ratings, test_size=0.20, random_state=42)\n",
    "print(\"{} train ratings, {} test ratings\".format(len(train_ratings), len(test_ratings)))"
   ]
  },
  {
   "cell_type": "code",
   "execution_count": 72,
   "metadata": {},
   "outputs": [],
   "source": [
    "# Create sparse matrices of interaction data\n",
    "sparse_train_ratings = interactions_list_to_sparse_matrix(train_ratings)\n",
    "sparse_test_ratings = interactions_list_to_sparse_matrix(test_ratings)"
   ]
  },
  {
   "cell_type": "code",
   "execution_count": 73,
   "metadata": {},
   "outputs": [
    {
     "data": {
      "text/plain": [
       "(992, 72264)"
      ]
     },
     "execution_count": 73,
     "metadata": {},
     "output_type": "execute_result"
    }
   ],
   "source": [
    "sparse_train_ratings.shape"
   ]
  },
  {
   "cell_type": "code",
   "execution_count": 74,
   "metadata": {},
   "outputs": [],
   "source": [
    "item_indicator_features = sparse.identity(n_items)\n",
    "user_indicator_features = sparse.identity(n_users)"
   ]
  },
  {
   "cell_type": "markdown",
   "metadata": {},
   "source": [
    "## Model"
   ]
  },
  {
   "cell_type": "markdown",
   "metadata": {},
   "source": [
    "### 1. Collaborative Filtering"
   ]
  },
  {
   "cell_type": "code",
   "execution_count": 75,
   "metadata": {},
   "outputs": [],
   "source": [
    "recall_results = {}"
   ]
  },
  {
   "cell_type": "code",
   "execution_count": 76,
   "metadata": {},
   "outputs": [],
   "source": [
    "# Build the model with default parameters\n",
    "model = tensorrec.TensorRec(n_components=5)"
   ]
  },
  {
   "cell_type": "code",
   "execution_count": 77,
   "metadata": {},
   "outputs": [
    {
     "name": "stdout",
     "output_type": "stream",
     "text": [
      "Training collaborative filter\n"
     ]
    },
    {
     "name": "stderr",
     "output_type": "stream",
     "text": [
      "/anaconda3/lib/python3.6/site-packages/tensorflow/python/ops/gradients_impl.py:108: UserWarning: Converting sparse IndexedSlices to a dense Tensor of unknown shape. This may consume a large amount of memory.\n",
      "  \"Converting sparse IndexedSlices to a dense Tensor of unknown shape. \"\n",
      "/anaconda3/lib/python3.6/site-packages/tensorflow/python/ops/gradients_impl.py:108: UserWarning: Converting sparse IndexedSlices to a dense Tensor of unknown shape. This may consume a large amount of memory.\n",
      "  \"Converting sparse IndexedSlices to a dense Tensor of unknown shape. \"\n",
      "/anaconda3/lib/python3.6/site-packages/tensorflow/python/ops/gradients_impl.py:108: UserWarning: Converting sparse IndexedSlices to a dense Tensor of unknown shape. This may consume a large amount of memory.\n",
      "  \"Converting sparse IndexedSlices to a dense Tensor of unknown shape. \"\n",
      "/anaconda3/lib/python3.6/site-packages/tensorflow/python/ops/gradients_impl.py:108: UserWarning: Converting sparse IndexedSlices to a dense Tensor of unknown shape. This may consume a large amount of memory.\n",
      "  \"Converting sparse IndexedSlices to a dense Tensor of unknown shape. \"\n",
      "/anaconda3/lib/python3.6/site-packages/tensorflow/python/ops/gradients_impl.py:108: UserWarning: Converting sparse IndexedSlices to a dense Tensor of unknown shape. This may consume a large amount of memory.\n",
      "  \"Converting sparse IndexedSlices to a dense Tensor of unknown shape. \"\n",
      "/anaconda3/lib/python3.6/site-packages/tensorflow/python/ops/gradients_impl.py:108: UserWarning: Converting sparse IndexedSlices to a dense Tensor of unknown shape. This may consume a large amount of memory.\n",
      "  \"Converting sparse IndexedSlices to a dense Tensor of unknown shape. \"\n"
     ]
    }
   ],
   "source": [
    "# Fit the collaborative filter model\n",
    "print(\"Training collaborative filter\")\n",
    "model.fit(interactions=sparse_train_ratings,\n",
    "             user_features=user_indicator_features,\n",
    "             item_features=item_indicator_features)"
   ]
  },
  {
   "cell_type": "code",
   "execution_count": 78,
   "metadata": {},
   "outputs": [],
   "source": [
    "# Create sets of train/test interactions that are only ratings >= 10\n",
    "sparse_train_ratings_10plus = sparse_train_ratings.multiply(sparse_train_ratings >= 10)\n",
    "sparse_test_ratings_10plus = sparse_test_ratings.multiply(sparse_test_ratings >= 10)"
   ]
  },
  {
   "cell_type": "code",
   "execution_count": 79,
   "metadata": {},
   "outputs": [],
   "source": [
    "# This method consumes item ranks for each user and prints out recall@10 train/test metrics\n",
    "def check_results(ranks):\n",
    "    train_recall_at_10 = tensorrec.eval.recall_at_k(\n",
    "        test_interactions=sparse_train_ratings_10plus,\n",
    "        predicted_ranks=ranks,\n",
    "        k=50\n",
    "    ).mean()\n",
    "    test_recall_at_10 = tensorrec.eval.recall_at_k(\n",
    "        test_interactions=sparse_test_ratings_10plus,\n",
    "        predicted_ranks=ranks,\n",
    "        k=50\n",
    "    ).mean()\n",
    "    print(\"Recall at 10: Train: {:.4f} Test: {:.4f}\".format(train_recall_at_10,\n",
    "                                                            test_recall_at_10))\n",
    "    return(train_recall_at_10,test_recall_at_10)"
   ]
  },
  {
   "cell_type": "code",
   "execution_count": 80,
   "metadata": {},
   "outputs": [
    {
     "name": "stdout",
     "output_type": "stream",
     "text": [
      "Matrix factorization collaborative filter:\n"
     ]
    }
   ],
   "source": [
    "# Check the results of the MF CF model\n",
    "print(\"Matrix factorization collaborative filter:\")\n",
    "predicted_ranks = model.predict_rank(user_features=user_indicator_features,\n",
    "                                        item_features=item_indicator_features)"
   ]
  },
  {
   "cell_type": "code",
   "execution_count": 81,
   "metadata": {},
   "outputs": [
    {
     "name": "stdout",
     "output_type": "stream",
     "text": [
      "Recall at 10: Train: 0.0112 Test: 0.0050\n"
     ]
    }
   ],
   "source": [
    "recall_results['Collaborative Filtering'] = check_results(predicted_ranks)"
   ]
  },
  {
   "cell_type": "markdown",
   "metadata": {},
   "source": [
    "#### Changing loss function"
   ]
  },
  {
   "cell_type": "code",
   "execution_count": 82,
   "metadata": {},
   "outputs": [
    {
     "name": "stdout",
     "output_type": "stream",
     "text": [
      "Training collaborative filter with WMRB loss\n"
     ]
    },
    {
     "name": "stderr",
     "output_type": "stream",
     "text": [
      "/anaconda3/lib/python3.6/site-packages/tensorflow/python/ops/gradients_impl.py:108: UserWarning: Converting sparse IndexedSlices to a dense Tensor of unknown shape. This may consume a large amount of memory.\n",
      "  \"Converting sparse IndexedSlices to a dense Tensor of unknown shape. \"\n",
      "/anaconda3/lib/python3.6/site-packages/tensorflow/python/ops/gradients_impl.py:108: UserWarning: Converting sparse IndexedSlices to a dense Tensor of unknown shape. This may consume a large amount of memory.\n",
      "  \"Converting sparse IndexedSlices to a dense Tensor of unknown shape. \"\n",
      "/anaconda3/lib/python3.6/site-packages/tensorflow/python/ops/gradients_impl.py:108: UserWarning: Converting sparse IndexedSlices to a dense Tensor of unknown shape. This may consume a large amount of memory.\n",
      "  \"Converting sparse IndexedSlices to a dense Tensor of unknown shape. \"\n",
      "/anaconda3/lib/python3.6/site-packages/tensorflow/python/ops/gradients_impl.py:108: UserWarning: Converting sparse IndexedSlices to a dense Tensor of unknown shape. This may consume a large amount of memory.\n",
      "  \"Converting sparse IndexedSlices to a dense Tensor of unknown shape. \"\n",
      "/anaconda3/lib/python3.6/site-packages/tensorflow/python/ops/gradients_impl.py:108: UserWarning: Converting sparse IndexedSlices to a dense Tensor of unknown shape. This may consume a large amount of memory.\n",
      "  \"Converting sparse IndexedSlices to a dense Tensor of unknown shape. \"\n",
      "/anaconda3/lib/python3.6/site-packages/tensorflow/python/ops/gradients_impl.py:108: UserWarning: Converting sparse IndexedSlices to a dense Tensor of unknown shape. This may consume a large amount of memory.\n",
      "  \"Converting sparse IndexedSlices to a dense Tensor of unknown shape. \"\n",
      "/anaconda3/lib/python3.6/site-packages/tensorflow/python/ops/gradients_impl.py:108: UserWarning: Converting sparse IndexedSlices to a dense Tensor of unknown shape. This may consume a large amount of memory.\n",
      "  \"Converting sparse IndexedSlices to a dense Tensor of unknown shape. \"\n",
      "/anaconda3/lib/python3.6/site-packages/tensorflow/python/ops/gradients_impl.py:108: UserWarning: Converting sparse IndexedSlices to a dense Tensor of unknown shape. This may consume a large amount of memory.\n",
      "  \"Converting sparse IndexedSlices to a dense Tensor of unknown shape. \"\n"
     ]
    }
   ],
   "source": [
    "# Let's try a new loss function: WMRB\n",
    "print(\"Training collaborative filter with WMRB loss\")\n",
    "ranking_cf_model = tensorrec.TensorRec(n_components=5,\n",
    "                                       loss_graph=tensorrec.loss_graphs.WMRBLossGraph())\n",
    "ranking_cf_model.fit(interactions=sparse_train_ratings_10plus,\n",
    "                     user_features=user_indicator_features,\n",
    "                     item_features=item_indicator_features,\n",
    "                     n_sampled_items=int(n_items * .01))"
   ]
  },
  {
   "cell_type": "code",
   "execution_count": 83,
   "metadata": {},
   "outputs": [
    {
     "name": "stdout",
     "output_type": "stream",
     "text": [
      "WMRB matrix factorization collaborative filter:\n",
      "Recall at 10: Train: 0.0575 Test: 0.0318\n"
     ]
    }
   ],
   "source": [
    "# Check the results of the WMRB MF CF model\n",
    "print(\"WMRB matrix factorization collaborative filter:\")\n",
    "predicted_ranks = ranking_cf_model.predict_rank(user_features=user_indicator_features,\n",
    "                                                item_features=item_indicator_features)\n",
    "recall_results['CF WMRB'] = check_results(predicted_ranks)"
   ]
  },
  {
   "cell_type": "markdown",
   "metadata": {},
   "source": [
    "### 2. Content-based filtering"
   ]
  },
  {
   "cell_type": "markdown",
   "metadata": {},
   "source": [
    "#### Using item features"
   ]
  },
  {
   "cell_type": "code",
   "execution_count": 84,
   "metadata": {},
   "outputs": [
    {
     "name": "stdout",
     "output_type": "stream",
     "text": [
      "Training content-based recommender\n"
     ]
    },
    {
     "name": "stderr",
     "output_type": "stream",
     "text": [
      "/anaconda3/lib/python3.6/site-packages/tensorflow/python/ops/gradients_impl.py:108: UserWarning: Converting sparse IndexedSlices to a dense Tensor of unknown shape. This may consume a large amount of memory.\n",
      "  \"Converting sparse IndexedSlices to a dense Tensor of unknown shape. \"\n",
      "/anaconda3/lib/python3.6/site-packages/tensorflow/python/ops/gradients_impl.py:108: UserWarning: Converting sparse IndexedSlices to a dense Tensor of unknown shape. This may consume a large amount of memory.\n",
      "  \"Converting sparse IndexedSlices to a dense Tensor of unknown shape. \"\n",
      "/anaconda3/lib/python3.6/site-packages/tensorflow/python/ops/gradients_impl.py:108: UserWarning: Converting sparse IndexedSlices to a dense Tensor of unknown shape. This may consume a large amount of memory.\n",
      "  \"Converting sparse IndexedSlices to a dense Tensor of unknown shape. \"\n",
      "/anaconda3/lib/python3.6/site-packages/tensorflow/python/ops/gradients_impl.py:108: UserWarning: Converting sparse IndexedSlices to a dense Tensor of unknown shape. This may consume a large amount of memory.\n",
      "  \"Converting sparse IndexedSlices to a dense Tensor of unknown shape. \"\n",
      "/anaconda3/lib/python3.6/site-packages/tensorflow/python/ops/gradients_impl.py:108: UserWarning: Converting sparse IndexedSlices to a dense Tensor of unknown shape. This may consume a large amount of memory.\n",
      "  \"Converting sparse IndexedSlices to a dense Tensor of unknown shape. \"\n",
      "/anaconda3/lib/python3.6/site-packages/tensorflow/python/ops/gradients_impl.py:108: UserWarning: Converting sparse IndexedSlices to a dense Tensor of unknown shape. This may consume a large amount of memory.\n",
      "  \"Converting sparse IndexedSlices to a dense Tensor of unknown shape. \"\n"
     ]
    }
   ],
   "source": [
    "# Fit a content-based model using the song tags as item features\n",
    "print(\"Training content-based recommender\")\n",
    "content_model_item = tensorrec.TensorRec(\n",
    "    n_components=n_tags,\n",
    "    item_repr_graph=tensorrec.representation_graphs.FeaturePassThroughRepresentationGraph(),\n",
    "    loss_graph=tensorrec.loss_graphs.WMRBLossGraph()\n",
    ")\n",
    "content_model_item.fit(interactions=sparse_train_ratings_10plus,\n",
    "                  user_features=user_indicator_features,\n",
    "                  item_features=song_tag_features,\n",
    "                  n_sampled_items=int(n_tags * .01))"
   ]
  },
  {
   "cell_type": "code",
   "execution_count": 85,
   "metadata": {},
   "outputs": [
    {
     "name": "stdout",
     "output_type": "stream",
     "text": [
      "Content-based recommender:\n",
      "Recall at 10: Train: 0.0262 Test: 0.0201\n"
     ]
    }
   ],
   "source": [
    "# Check the results of the content-based model\n",
    "print(\"Content-based recommender:\")\n",
    "predicted_ranks = content_model_item.predict_rank(user_features=user_indicator_features,\n",
    "                                             item_features=song_tag_features)\n",
    "recall_results['CB ITEM'] = check_results(predicted_ranks)"
   ]
  },
  {
   "cell_type": "markdown",
   "metadata": {},
   "source": [
    "#### Using song features one-hot encoding"
   ]
  },
  {
   "cell_type": "code",
   "execution_count": 86,
   "metadata": {},
   "outputs": [
    {
     "name": "stdout",
     "output_type": "stream",
     "text": [
      "Training content-based recommender\n"
     ]
    },
    {
     "name": "stderr",
     "output_type": "stream",
     "text": [
      "/anaconda3/lib/python3.6/site-packages/tensorflow/python/ops/gradients_impl.py:108: UserWarning: Converting sparse IndexedSlices to a dense Tensor of unknown shape. This may consume a large amount of memory.\n",
      "  \"Converting sparse IndexedSlices to a dense Tensor of unknown shape. \"\n",
      "/anaconda3/lib/python3.6/site-packages/tensorflow/python/ops/gradients_impl.py:108: UserWarning: Converting sparse IndexedSlices to a dense Tensor of unknown shape. This may consume a large amount of memory.\n",
      "  \"Converting sparse IndexedSlices to a dense Tensor of unknown shape. \"\n",
      "/anaconda3/lib/python3.6/site-packages/tensorflow/python/ops/gradients_impl.py:108: UserWarning: Converting sparse IndexedSlices to a dense Tensor of unknown shape. This may consume a large amount of memory.\n",
      "  \"Converting sparse IndexedSlices to a dense Tensor of unknown shape. \"\n",
      "/anaconda3/lib/python3.6/site-packages/tensorflow/python/ops/gradients_impl.py:108: UserWarning: Converting sparse IndexedSlices to a dense Tensor of unknown shape. This may consume a large amount of memory.\n",
      "  \"Converting sparse IndexedSlices to a dense Tensor of unknown shape. \"\n",
      "/anaconda3/lib/python3.6/site-packages/tensorflow/python/ops/gradients_impl.py:108: UserWarning: Converting sparse IndexedSlices to a dense Tensor of unknown shape. This may consume a large amount of memory.\n",
      "  \"Converting sparse IndexedSlices to a dense Tensor of unknown shape. \"\n",
      "/anaconda3/lib/python3.6/site-packages/tensorflow/python/ops/gradients_impl.py:108: UserWarning: Converting sparse IndexedSlices to a dense Tensor of unknown shape. This may consume a large amount of memory.\n",
      "  \"Converting sparse IndexedSlices to a dense Tensor of unknown shape. \"\n"
     ]
    }
   ],
   "source": [
    "# Fit a content-based model using the user features\n",
    "print(\"Training content-based recommender\")\n",
    "content_model_user = tensorrec.TensorRec(\n",
    "    n_components=n_features_onehot,\n",
    "    user_repr_graph=tensorrec.representation_graphs.FeaturePassThroughRepresentationGraph(),\n",
    "    loss_graph=tensorrec.loss_graphs.WMRBLossGraph()\n",
    ")\n",
    "content_model_user.fit(interactions=sparse_train_ratings_10plus,\n",
    "                  user_features=user_data_features_onehot,\n",
    "                  item_features=item_indicator_features,\n",
    "                  n_sampled_items=int(n_features_onehot * .1))"
   ]
  },
  {
   "cell_type": "code",
   "execution_count": 87,
   "metadata": {},
   "outputs": [
    {
     "name": "stdout",
     "output_type": "stream",
     "text": [
      "Content-based recommender:\n",
      "Recall at 10: Train: 0.0126 Test: 0.0057\n"
     ]
    }
   ],
   "source": [
    "# Check the results of the content-based model\n",
    "print(\"Content-based recommender:\")\n",
    "predicted_ranks = content_model_user.predict_rank(user_features=user_data_features_onehot,\n",
    "                                             item_features=item_indicator_features)\n",
    "recall_results['CB USER1'] = check_results(predicted_ranks)"
   ]
  },
  {
   "cell_type": "markdown",
   "metadata": {},
   "source": [
    "#### Using user features label encoding"
   ]
  },
  {
   "cell_type": "code",
   "execution_count": 88,
   "metadata": {},
   "outputs": [
    {
     "name": "stdout",
     "output_type": "stream",
     "text": [
      "Training content-based recommender\n"
     ]
    },
    {
     "name": "stderr",
     "output_type": "stream",
     "text": [
      "/anaconda3/lib/python3.6/site-packages/tensorflow/python/ops/gradients_impl.py:108: UserWarning: Converting sparse IndexedSlices to a dense Tensor of unknown shape. This may consume a large amount of memory.\n",
      "  \"Converting sparse IndexedSlices to a dense Tensor of unknown shape. \"\n",
      "/anaconda3/lib/python3.6/site-packages/tensorflow/python/ops/gradients_impl.py:108: UserWarning: Converting sparse IndexedSlices to a dense Tensor of unknown shape. This may consume a large amount of memory.\n",
      "  \"Converting sparse IndexedSlices to a dense Tensor of unknown shape. \"\n",
      "/anaconda3/lib/python3.6/site-packages/tensorflow/python/ops/gradients_impl.py:108: UserWarning: Converting sparse IndexedSlices to a dense Tensor of unknown shape. This may consume a large amount of memory.\n",
      "  \"Converting sparse IndexedSlices to a dense Tensor of unknown shape. \"\n",
      "/anaconda3/lib/python3.6/site-packages/tensorflow/python/ops/gradients_impl.py:108: UserWarning: Converting sparse IndexedSlices to a dense Tensor of unknown shape. This may consume a large amount of memory.\n",
      "  \"Converting sparse IndexedSlices to a dense Tensor of unknown shape. \"\n",
      "/anaconda3/lib/python3.6/site-packages/tensorflow/python/ops/gradients_impl.py:108: UserWarning: Converting sparse IndexedSlices to a dense Tensor of unknown shape. This may consume a large amount of memory.\n",
      "  \"Converting sparse IndexedSlices to a dense Tensor of unknown shape. \"\n",
      "/anaconda3/lib/python3.6/site-packages/tensorflow/python/ops/gradients_impl.py:108: UserWarning: Converting sparse IndexedSlices to a dense Tensor of unknown shape. This may consume a large amount of memory.\n",
      "  \"Converting sparse IndexedSlices to a dense Tensor of unknown shape. \"\n"
     ]
    }
   ],
   "source": [
    "# Fit a content-based model using the user features\n",
    "print(\"Training content-based recommender\")\n",
    "content_model_user_label = tensorrec.TensorRec(\n",
    "    n_components=user_data_features.shape[1],\n",
    "    user_repr_graph=tensorrec.representation_graphs.FeaturePassThroughRepresentationGraph(),\n",
    "    loss_graph=tensorrec.loss_graphs.WMRBLossGraph()\n",
    ")\n",
    "content_model_user_label.fit(interactions=sparse_train_ratings_10plus,\n",
    "                  user_features=user_data_features,\n",
    "                  item_features=item_indicator_features,\n",
    "                  n_sampled_items=int(user_data_features.shape[1]))"
   ]
  },
  {
   "cell_type": "code",
   "execution_count": 89,
   "metadata": {},
   "outputs": [
    {
     "name": "stdout",
     "output_type": "stream",
     "text": [
      "Content-based recommender:\n",
      "Recall at 10: Train: 0.0068 Test: 0.0049\n"
     ]
    }
   ],
   "source": [
    "# Check the results of the content-based model\n",
    "print(\"Content-based recommender:\")\n",
    "predicted_ranks = content_model_user_label.predict_rank(user_features=user_data_features,\n",
    "                                             item_features=item_indicator_features)\n",
    "recall_results['CB USER LABEL'] = check_results(predicted_ranks)"
   ]
  },
  {
   "cell_type": "markdown",
   "metadata": {},
   "source": [
    "### 3. Hybrid approach"
   ]
  },
  {
   "cell_type": "code",
   "execution_count": 90,
   "metadata": {},
   "outputs": [],
   "source": [
    "# Concatenate features with indicator features for hybrid recommender system\n",
    "full_item_features = sparse.hstack([item_indicator_features, song_tag_features])\n",
    "full_user_features = sparse.hstack([user_indicator_features, user_data_features_onehot])"
   ]
  },
  {
   "cell_type": "code",
   "execution_count": 106,
   "metadata": {},
   "outputs": [
    {
     "name": "stdout",
     "output_type": "stream",
     "text": [
      "Training hybrid recommender\n"
     ]
    },
    {
     "name": "stderr",
     "output_type": "stream",
     "text": [
      "/anaconda3/lib/python3.6/site-packages/tensorflow/python/ops/gradients_impl.py:108: UserWarning: Converting sparse IndexedSlices to a dense Tensor of unknown shape. This may consume a large amount of memory.\n",
      "  \"Converting sparse IndexedSlices to a dense Tensor of unknown shape. \"\n",
      "/anaconda3/lib/python3.6/site-packages/tensorflow/python/ops/gradients_impl.py:108: UserWarning: Converting sparse IndexedSlices to a dense Tensor of unknown shape. This may consume a large amount of memory.\n",
      "  \"Converting sparse IndexedSlices to a dense Tensor of unknown shape. \"\n",
      "/anaconda3/lib/python3.6/site-packages/tensorflow/python/ops/gradients_impl.py:108: UserWarning: Converting sparse IndexedSlices to a dense Tensor of unknown shape. This may consume a large amount of memory.\n",
      "  \"Converting sparse IndexedSlices to a dense Tensor of unknown shape. \"\n",
      "/anaconda3/lib/python3.6/site-packages/tensorflow/python/ops/gradients_impl.py:108: UserWarning: Converting sparse IndexedSlices to a dense Tensor of unknown shape. This may consume a large amount of memory.\n",
      "  \"Converting sparse IndexedSlices to a dense Tensor of unknown shape. \"\n",
      "/anaconda3/lib/python3.6/site-packages/tensorflow/python/ops/gradients_impl.py:108: UserWarning: Converting sparse IndexedSlices to a dense Tensor of unknown shape. This may consume a large amount of memory.\n",
      "  \"Converting sparse IndexedSlices to a dense Tensor of unknown shape. \"\n",
      "/anaconda3/lib/python3.6/site-packages/tensorflow/python/ops/gradients_impl.py:108: UserWarning: Converting sparse IndexedSlices to a dense Tensor of unknown shape. This may consume a large amount of memory.\n",
      "  \"Converting sparse IndexedSlices to a dense Tensor of unknown shape. \"\n",
      "/anaconda3/lib/python3.6/site-packages/tensorflow/python/ops/gradients_impl.py:108: UserWarning: Converting sparse IndexedSlices to a dense Tensor of unknown shape. This may consume a large amount of memory.\n",
      "  \"Converting sparse IndexedSlices to a dense Tensor of unknown shape. \"\n",
      "/anaconda3/lib/python3.6/site-packages/tensorflow/python/ops/gradients_impl.py:108: UserWarning: Converting sparse IndexedSlices to a dense Tensor of unknown shape. This may consume a large amount of memory.\n",
      "  \"Converting sparse IndexedSlices to a dense Tensor of unknown shape. \"\n"
     ]
    }
   ],
   "source": [
    "print(\"Training hybrid recommender\")\n",
    "hybrid_model = tensorrec.TensorRec(\n",
    "    n_components=5,\n",
    "    loss_graph=tensorrec.loss_graphs.WMRBLossGraph()\n",
    ")\n",
    "hybrid_model.fit(interactions=sparse_train_ratings_10plus,\n",
    "                 user_features=user_indicator_features,\n",
    "                 item_features=full_item_features,\n",
    "                 n_sampled_items=int(n_tags * .01))"
   ]
  },
  {
   "cell_type": "code",
   "execution_count": 109,
   "metadata": {},
   "outputs": [
    {
     "name": "stdout",
     "output_type": "stream",
     "text": [
      "Hybrid recommender:\n",
      "Recall at 10: Train: 0.0111 Test: 0.0107\n"
     ]
    }
   ],
   "source": [
    "print(\"Hybrid recommender:\")\n",
    "predicted_ranks = hybrid_model.predict_rank(user_features=user_indicator_features,\n",
    "                                            item_features=full_item_features)\n",
    "recall_results['HYBRID'] = check_results(predicted_ranks)"
   ]
  },
  {
   "cell_type": "markdown",
   "metadata": {},
   "source": [
    "### 4. Deep Learning approach"
   ]
  },
  {
   "cell_type": "code",
   "execution_count": 93,
   "metadata": {},
   "outputs": [
    {
     "name": "stdout",
     "output_type": "stream",
     "text": [
      "Deep Learning Recommender\n"
     ]
    }
   ],
   "source": [
    "print(\"Deep Learning Recommender\")\n",
    "dl_model = tensorrec.TensorRec(\n",
    "    n_components=n_tags,\n",
    "    loss_graph=tensorrec.loss_graphs.WMRBLossGraph(),\n",
    "    user_repr_graph=tensorrec.representation_graphs.ReLURepresentationGraph(),\n",
    "    item_repr_graph=tensorrec.representation_graphs.ReLURepresentationGraph())"
   ]
  },
  {
   "cell_type": "code",
   "execution_count": 94,
   "metadata": {},
   "outputs": [
    {
     "name": "stderr",
     "output_type": "stream",
     "text": [
      "/anaconda3/lib/python3.6/site-packages/tensorflow/python/ops/gradients_impl.py:108: UserWarning: Converting sparse IndexedSlices to a dense Tensor of unknown shape. This may consume a large amount of memory.\n",
      "  \"Converting sparse IndexedSlices to a dense Tensor of unknown shape. \"\n",
      "/anaconda3/lib/python3.6/site-packages/tensorflow/python/ops/gradients_impl.py:108: UserWarning: Converting sparse IndexedSlices to a dense Tensor of unknown shape. This may consume a large amount of memory.\n",
      "  \"Converting sparse IndexedSlices to a dense Tensor of unknown shape. \"\n",
      "/anaconda3/lib/python3.6/site-packages/tensorflow/python/ops/gradients_impl.py:108: UserWarning: Converting sparse IndexedSlices to a dense Tensor of unknown shape. This may consume a large amount of memory.\n",
      "  \"Converting sparse IndexedSlices to a dense Tensor of unknown shape. \"\n",
      "/anaconda3/lib/python3.6/site-packages/tensorflow/python/ops/gradients_impl.py:108: UserWarning: Converting sparse IndexedSlices to a dense Tensor of unknown shape. This may consume a large amount of memory.\n",
      "  \"Converting sparse IndexedSlices to a dense Tensor of unknown shape. \"\n",
      "/anaconda3/lib/python3.6/site-packages/tensorflow/python/ops/gradients_impl.py:108: UserWarning: Converting sparse IndexedSlices to a dense Tensor of unknown shape. This may consume a large amount of memory.\n",
      "  \"Converting sparse IndexedSlices to a dense Tensor of unknown shape. \"\n",
      "/anaconda3/lib/python3.6/site-packages/tensorflow/python/ops/gradients_impl.py:108: UserWarning: Converting sparse IndexedSlices to a dense Tensor of unknown shape. This may consume a large amount of memory.\n",
      "  \"Converting sparse IndexedSlices to a dense Tensor of unknown shape. \"\n",
      "/anaconda3/lib/python3.6/site-packages/tensorflow/python/ops/gradients_impl.py:108: UserWarning: Converting sparse IndexedSlices to a dense Tensor of unknown shape. This may consume a large amount of memory.\n",
      "  \"Converting sparse IndexedSlices to a dense Tensor of unknown shape. \"\n",
      "/anaconda3/lib/python3.6/site-packages/tensorflow/python/ops/gradients_impl.py:108: UserWarning: Converting sparse IndexedSlices to a dense Tensor of unknown shape. This may consume a large amount of memory.\n",
      "  \"Converting sparse IndexedSlices to a dense Tensor of unknown shape. \"\n"
     ]
    }
   ],
   "source": [
    "dl_model.fit(interactions=sparse_train_ratings_10plus,\n",
    "                 user_features=user_indicator_features,\n",
    "                 item_features=full_item_features,\n",
    "                 n_sampled_items=int(n_tags * .01))"
   ]
  },
  {
   "cell_type": "code",
   "execution_count": 110,
   "metadata": {},
   "outputs": [
    {
     "name": "stdout",
     "output_type": "stream",
     "text": [
      "Deep Learning recommender system:\n",
      "Recall at 10: Train: 0.0006 Test: 0.0004\n"
     ]
    }
   ],
   "source": [
    "print(\"Deep Learning recommender system:\")\n",
    "predicted_ranks_dl = dl_model.predict_rank(user_features=user_indicator_features,\n",
    "                                            item_features=full_item_features)\n",
    "recall_results['DL'] = check_results(predicted_ranks_dl)"
   ]
  },
  {
   "cell_type": "code",
   "execution_count": 111,
   "metadata": {},
   "outputs": [
    {
     "data": {
      "text/plain": [
       "{'Collaborative Filtering': (0.011246022516353864, 0.004988313137182935),\n",
       " 'CF WMRB': (0.05750904127533483, 0.03182355641412479),\n",
       " 'CB ITEM': (0.026208644841632572, 0.020089778813074378),\n",
       " 'CB USER1': (0.012568215177222362, 0.005733221840017423),\n",
       " 'CB USER LABEL': (0.006788851300724196, 0.004892538044779395),\n",
       " 'HYBRID': (0.011124971814488557, 0.010651961349318619),\n",
       " 'DL': (0.0005751228631409415, 0.0004088366095808695)}"
      ]
     },
     "execution_count": 111,
     "metadata": {},
     "output_type": "execute_result"
    }
   ],
   "source": [
    "recall_results"
   ]
  },
  {
   "cell_type": "code",
   "execution_count": 112,
   "metadata": {},
   "outputs": [
    {
     "data": {
      "text/html": [
       "<div>\n",
       "<style scoped>\n",
       "    .dataframe tbody tr th:only-of-type {\n",
       "        vertical-align: middle;\n",
       "    }\n",
       "\n",
       "    .dataframe tbody tr th {\n",
       "        vertical-align: top;\n",
       "    }\n",
       "\n",
       "    .dataframe thead th {\n",
       "        text-align: right;\n",
       "    }\n",
       "</style>\n",
       "<table border=\"1\" class=\"dataframe\">\n",
       "  <thead>\n",
       "    <tr style=\"text-align: right;\">\n",
       "      <th></th>\n",
       "      <th>TRAIN</th>\n",
       "      <th>TEST</th>\n",
       "    </tr>\n",
       "  </thead>\n",
       "  <tbody>\n",
       "    <tr>\n",
       "      <th>Collaborative Filtering</th>\n",
       "      <td>0.011246</td>\n",
       "      <td>0.004988</td>\n",
       "    </tr>\n",
       "    <tr>\n",
       "      <th>CF WMRB</th>\n",
       "      <td>0.057509</td>\n",
       "      <td>0.031824</td>\n",
       "    </tr>\n",
       "    <tr>\n",
       "      <th>CB ITEM</th>\n",
       "      <td>0.026209</td>\n",
       "      <td>0.020090</td>\n",
       "    </tr>\n",
       "    <tr>\n",
       "      <th>CB USER1</th>\n",
       "      <td>0.012568</td>\n",
       "      <td>0.005733</td>\n",
       "    </tr>\n",
       "    <tr>\n",
       "      <th>CB USER LABEL</th>\n",
       "      <td>0.006789</td>\n",
       "      <td>0.004893</td>\n",
       "    </tr>\n",
       "    <tr>\n",
       "      <th>HYBRID</th>\n",
       "      <td>0.011125</td>\n",
       "      <td>0.010652</td>\n",
       "    </tr>\n",
       "    <tr>\n",
       "      <th>DL</th>\n",
       "      <td>0.000575</td>\n",
       "      <td>0.000409</td>\n",
       "    </tr>\n",
       "  </tbody>\n",
       "</table>\n",
       "</div>"
      ],
      "text/plain": [
       "                            TRAIN      TEST\n",
       "Collaborative Filtering  0.011246  0.004988\n",
       "CF WMRB                  0.057509  0.031824\n",
       "CB ITEM                  0.026209  0.020090\n",
       "CB USER1                 0.012568  0.005733\n",
       "CB USER LABEL            0.006789  0.004893\n",
       "HYBRID                   0.011125  0.010652\n",
       "DL                       0.000575  0.000409"
      ]
     },
     "execution_count": 112,
     "metadata": {},
     "output_type": "execute_result"
    }
   ],
   "source": [
    "results = pd.DataFrame.from_dict(recall_results, orient='index', columns=['TRAIN','TEST'])\n",
    "results"
   ]
  },
  {
   "cell_type": "code",
   "execution_count": 113,
   "metadata": {},
   "outputs": [
    {
     "data": {
      "image/png": "[encoded data removed]",
      "text/plain": [
       "<Figure size 432x288 with 1 Axes>"
      ]
     },
     "metadata": {},
     "output_type": "display_data"
    }
   ],
   "source": [
    "results.plot(kind='bar',title='Results from different recommendation approaches');\n",
    "plt.ylabel('Recall at 50')\n",
    "plt.show();"
   ]
  },
  {
   "cell_type": "code",
   "execution_count": null,
   "metadata": {},
   "outputs": [],
   "source": []
  }
 ],
 "metadata": {
  "kernelspec": {
   "display_name": "Python 3",
   "language": "python",
   "name": "python3"
  },
  "language_info": {
   "codemirror_mode": {
    "name": "ipython",
    "version": 3
   },
   "file_extension": ".py",
   "mimetype": "text/x-python",
   "name": "python",
   "nbconvert_exporter": "python",
   "pygments_lexer": "ipython3",
   "version": "3.6.5"
  }
 },
 "nbformat": 4,
 "nbformat_minor": 2
}
